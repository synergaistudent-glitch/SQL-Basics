{
 "cells": [
  {
   "cell_type": "markdown",
   "metadata": {},
   "source": [
    "# SQL Basics: Querying Databases, Joins, and Aggregations\n",
    "\n",
    "## Introduction\n",
    "SQL (Structured Query Language) is a powerful language used for managing and manipulating relational databases. It allows users to query data, insert or update records, and perform complex data analysis through joins and aggregations. This notebook explores SQL fundamentals, including database connections, basic queries, joins, and aggregations, with practical examples using a SQLite database.\n",
    "\n",
    "By the end of this notebook, you will understand how to:\n",
    "- Connect to a SQLite database using Python.\n",
    "- Write and execute basic SQL queries.\n",
    "- Use different types of joins to combine data from multiple tables.\n",
    "- Apply aggregate functions and group data for analysis.\n",
    "- Solve practical SQL challenges.\n",
    "\n",
    "Let's get started!"
   ]
  },
  {
   "cell_type": "markdown",
   "metadata": {},
   "source": [
    "## 1. Connecting to a Database\n",
    "\n",
    "We'll use Python's `sqlite3` library to connect to a SQLite database. SQLite is a lightweight, serverless database ideal for learning and small projects. Below, we create a sample database with two tables: `products` and `sales`.\n",
    "\n",
    "### Steps:\n",
    "1. Import the `sqlite3` library.\n",
    "2. Create a database and tables.\n",
    "3. Populate the tables with sample data.\n",
    "\n",
    "Run the code below to set up the database."
   ]
  },
  {
   "cell_type": "code",
   "execution_count": 1,
   "metadata": {},
   "outputs": [
    {
     "name": "stdout",
     "output_type": "stream",
     "text": [
      "Database setup complete!\n"
     ]
    }
   ],
   "source": [
    "import sqlite3\n",
    "\n",
    "# Connect to a new SQLite database (creates 'store.db' if it doesn't exist)\n",
    "conn = sqlite3.connect('store.db')\n",
    "cursor = conn.cursor()\n",
    "\n",
    "# Create products table\n",
    "cursor.execute('''\n",
    "    CREATE TABLE IF NOT EXISTS products (\n",
    "        product_id INTEGER PRIMARY KEY,\n",
    "        product_name TEXT NOT NULL,\n",
    "        category TEXT NOT NULL,\n",
    "        price REAL NOT NULL\n",
    "    )\n",
    "''')\n",
    "\n",
    "# Create sales table\n",
    "cursor.execute('''\n",
    "    CREATE TABLE IF NOT EXISTS sales (\n",
    "        sale_id INTEGER PRIMARY KEY,\n",
    "        product_id INTEGER,\n",
    "        sale_date TEXT NOT NULL,\n",
    "        quantity INTEGER NOT NULL,\n",
    "        total_amount REAL NOT NULL,\n",
    "        FOREIGN KEY (product_id) REFERENCES products (product_id)\n",
    "    )\n",
    "''')\n",
    "\n",
    "# Insert sample data into products\n",
    "cursor.executemany('''\n",
    "    INSERT OR REPLACE INTO products (product_id, product_name, category, price)\n",
    "    VALUES (?, ?, ?, ?)\n",
    "''', [\n",
    "    (1, 'Laptop', 'Electronics', 999.99),\n",
    "    (2, 'Headphones', 'Electronics', 79.99),\n",
    "    (3, 'Coffee Maker', 'Appliances', 49.99),\n",
    "    (4, 'Blender', 'Appliances', 29.99),\n",
    "    (5, 'Smartphone', 'Electronics', 599.99)\n",
    "])\n",
    "\n",
    "# Insert sample data into sales\n",
    "cursor.executemany('''\n",
    "    INSERT OR REPLACE INTO sales (sale_id, product_id, sale_date, quantity, total_amount)\n",
    "    VALUES (?, ?, ?, ?, ?)\n",
    "''', [\n",
    "    (1, 1, '2025-08-01', 2, 1999.98),\n",
    "    (2, 2, '2025-08-02', 5, 399.95),\n",
    "    (3, 3, '2025-08-03', 3, 149.97),\n",
    "    (4, 1, '2025-08-04', 1, 999.99),\n",
    "    (5, 4, '2025-08-05', 4, 119.96),\n",
    "    (6, 5, '2025-08-06', 2, 1199.98)\n",
    "])\n",
    "\n",
    "# Commit changes and close connection\n",
    "conn.commit()\n",
    "print(\"Database setup complete!\")\n"
   ]
  },
  {
   "cell_type": "markdown",
   "metadata": {},
   "source": [
    "## 2. Basic SQL Queries\n",
    "\n",
    "SQL queries allow you to interact with the database. Below are examples of basic SQL operations:\n",
    "\n",
    "- **SELECT**: Retrieves data from a table.\n",
    "- **INSERT**: Adds new records.\n",
    "- **UPDATE**: Modifies existing records.\n",
    "- **DELETE**: Removes records.\n",
    "\n",
    "### Example: SELECT Query\n",
    "Let's retrieve the `product_name` and `price` columns from the `products` table."
   ]
  },
  {
   "cell_type": "code",
   "execution_count": 2,
   "metadata": {},
   "outputs": [
    {
     "name": "stdout",
     "output_type": "stream",
     "text": [
      "Product: Laptop, Price: $999.99\n",
      "Product: Headphones, Price: $79.99\n",
      "Product: Smartphone, Price: $599.99\n"
     ]
    }
   ],
   "source": [
    "# SELECT query\n",
    "cursor.execute('''\n",
    "    SELECT product_name, price\n",
    "    FROM products\n",
    "    WHERE price > 50\n",
    "''')\n",
    "\n",
    "# Fetch and display results\n",
    "results = cursor.fetchall()\n",
    "for row in results:\n",
    "    print(f\"Product: {row[0]}, Price: ${row[1]}\")\n"
   ]
  },
  {
   "cell_type": "markdown",
   "metadata": {},
   "source": [
    "### Explanation\n",
    "- The `SELECT` statement specifies the columns to retrieve (`product_name`, `price`).\n",
    "- The `WHERE` clause filters rows where the price is greater than 50.\n",
    "- Other basic queries (INSERT, UPDATE, DELETE) follow similar syntax but modify the database instead of retrieving data."
   ]
  },
  {
   "cell_type": "markdown",
   "metadata": {},
   "source": [
    "## 3. Understanding Joins\n",
    "\n",
    "Joins combine data from multiple tables based on related columns. The main types of joins are:\n",
    "\n",
    "- **INNER JOIN**: Returns only matching records from both tables.\n",
    "- **LEFT JOIN**: Returns all records from the left table and matching records from the right (non-matching rows get NULL).\n",
    "- **RIGHT JOIN**: Returns all records from the right table and matching records from the left.\n",
    "- **FULL JOIN**: Returns all records from both tables, with NULLs for non-matching rows.\n",
    "\n",
    "SQLite does not support RIGHT JOIN or FULL JOIN natively, so we'll focus on INNER and LEFT joins.\n",
    "\n",
    "### Visual Explanation\n",
    "- INNER JOIN: Only the overlapping section of two tables.\n",
    "- LEFT JOIN: All records from the left table, plus matching records from the right.\n",
    "\n",
    "### Example: INNER JOIN\n",
    "Combine `products` and `sales` to get sales details with product names."
   ]
  },
  {
   "cell_type": "code",
   "execution_count": 3,
   "metadata": {},
   "outputs": [
    {
     "name": "stdout",
     "output_type": "stream",
     "text": [
      "Product: Laptop, Date: 2025-08-01, Quantity: 2, Total: $1999.98\n",
      "Product: Headphones, Date: 2025-08-02, Quantity: 5, Total: $399.95\n",
      "Product: Coffee Maker, Date: 2025-08-03, Quantity: 3, Total: $149.97\n",
      "Product: Laptop, Date: 2025-08-04, Quantity: 1, Total: $999.99\n",
      "Product: Blender, Date: 2025-08-05, Quantity: 4, Total: $119.96\n",
      "Product: Smartphone, Date: 2025-08-06, Quantity: 2, Total: $1199.98\n"
     ]
    }
   ],
   "source": [
    "# INNER JOIN query\n",
    "cursor.execute('''\n",
    "    SELECT p.product_name, s.sale_date, s.quantity, s.total_amount\n",
    "    FROM products p\n",
    "    INNER JOIN sales s ON p.product_id = s.product_id\n",
    "''')\n",
    "\n",
    "# Fetch and display results\n",
    "results = cursor.fetchall()\n",
    "for row in results:\n",
    "    print(f\"Product: {row[0]}, Date: {row[1]}, Quantity: {row[2]}, Total: ${row[3]}\")\n"
   ]
  },
  {
   "cell_type": "markdown",
   "metadata": {},
   "source": [
    "### Example: LEFT JOIN\n",
    "Retrieve all products, even those without sales."
   ]
  },
  {
   "cell_type": "code",
   "execution_count": 4,
   "metadata": {},
   "outputs": [
    {
     "name": "stdout",
     "output_type": "stream",
     "text": [
      "Product: Laptop, Date: 2025-08-01, Quantity: 2\n",
      "Product: Laptop, Date: 2025-08-04, Quantity: 1\n",
      "Product: Headphones, Date: 2025-08-02, Quantity: 5\n",
      "Product: Coffee Maker, Date: 2025-08-03, Quantity: 3\n",
      "Product: Blender, Date: 2025-08-05, Quantity: 4\n",
      "Product: Smartphone, Date: 2025-08-06, Quantity: 2\n"
     ]
    }
   ],
   "source": [
    "# LEFT JOIN query\n",
    "cursor.execute('''\n",
    "    SELECT p.product_name, s.sale_date, s.quantity\n",
    "    FROM products p\n",
    "    LEFT JOIN sales s ON p.product_id = s.product_id\n",
    "''')\n",
    "\n",
    "# Fetch and display results\n",
    "results = cursor.fetchall()\n",
    "for row in results:\n",
    "    print(f\"Product: {row[0]}, Date: {row[1]}, Quantity: {row[2]}\")\n"
   ]
  },
  {
   "cell_type": "markdown",
   "metadata": {},
   "source": [
    "## 4. Aggregations and Grouping\n",
    "\n",
    "Aggregate functions perform calculations on a set of rows. Common functions include:\n",
    "- **SUM**: Calculates the total.\n",
    "- **AVG**: Calculates the average.\n",
    "- **COUNT**: Counts the number of rows.\n",
    "- **MIN**/**MAX**: Finds the minimum or maximum value.\n",
    "\n",
    "The `GROUP BY` clause groups rows with the same values into summary rows.\n",
    "\n",
    "### Task: Calculate Sales Metrics\n",
    "Calculate the total sales, average sales price, and number of transactions per product category."
   ]
  },
  {
   "cell_type": "code",
   "execution_count": 5,
   "metadata": {},
   "outputs": [
    {
     "name": "stdout",
     "output_type": "stream",
     "text": [
      "Category: Appliances, Transactions: 2, Total Sales: $269.93, Avg Sale: $134.97\n",
      "Category: Electronics, Transactions: 4, Total Sales: $4599.90, Avg Sale: $1149.97\n"
     ]
    }
   ],
   "source": [
    "# Aggregation query\n",
    "cursor.execute('''\n",
    "    SELECT p.category,\n",
    "           COUNT(s.sale_id) AS transaction_count,\n",
    "           SUM(s.total_amount) AS total_sales,\n",
    "           AVG(s.total_amount) AS avg_sale_price\n",
    "    FROM products p\n",
    "    INNER JOIN sales s ON p.product_id = s.product_id\n",
    "    GROUP BY p.category\n",
    "''')\n",
    "\n",
    "# Fetch and display results\n",
    "results = cursor.fetchall()\n",
    "for row in results:\n",
    "    print(f\"Category: {row[0]}, Transactions: {row[1]}, Total Sales: ${row[2]:.2f}, Avg Sale: ${row[3]:.2f}\")\n"
   ]
  },
  {
   "cell_type": "markdown",
   "metadata": {},
   "source": [
    "## 5. Challenges\n",
    "\n",
    "Test your understanding with these exercises:\n",
    "\n",
    "1. Write a query to find all products with a price greater than $100.\n",
    "2. Write a query to list all sales where the quantity sold is at least 3, including the product name and total amount.\n",
    "3. Write a query to calculate the total quantity sold per product (include product name).\n",
    "\n",
    "Try writing the queries below, then execute them to verify the results."
   ]
  },
  {
   "cell_type": "code",
   "execution_count": 6,
   "metadata": {},
   "outputs": [
    {
     "name": "stdout",
     "output_type": "stream",
     "text": [
      "Challenge 1 Results:\n",
      "Product: Laptop, Price: $999.99\n",
      "Product: Smartphone, Price: $599.99\n",
      "\n",
      "Challenge 2 Results:\n",
      "Product: Headphones, Quantity: 5, Total: $399.95\n",
      "Product: Coffee Maker, Quantity: 3, Total: $149.97\n",
      "Product: Blender, Quantity: 4, Total: $119.96\n",
      "\n",
      "Challenge 3 Results:\n",
      "Product: Blender, Total Quantity: 4\n",
      "Product: Coffee Maker, Total Quantity: 3\n",
      "Product: Headphones, Total Quantity: 5\n",
      "Product: Laptop, Total Quantity: 3\n",
      "Product: Smartphone, Total Quantity: 2\n"
     ]
    }
   ],
   "source": [
    "# Challenge 1: Products with price > $100\n",
    "cursor.execute('''\n",
    "    SELECT product_name, price\n",
    "    FROM products\n",
    "    WHERE price > 100\n",
    "''')\n",
    "results = cursor.fetchall()\n",
    "print(\"Challenge 1 Results:\")\n",
    "for row in results:\n",
    "    print(f\"Product: {row[0]}, Price: ${row[1]}\")\n",
    "\n",
    "# Challenge 2: Sales with quantity >= 3\n",
    "cursor.execute('''\n",
    "    SELECT p.product_name, s.quantity, s.total_amount\n",
    "    FROM products p\n",
    "    INNER JOIN sales s ON p.product_id = s.product_id\n",
    "    WHERE s.quantity >= 3\n",
    "''')\n",
    "results = cursor.fetchall()\n",
    "print(\"\\nChallenge 2 Results:\")\n",
    "for row in results:\n",
    "    print(f\"Product: {row[0]}, Quantity: {row[1]}, Total: ${row[2]}\")\n",
    "\n",
    "# Challenge 3: Total quantity sold per product\n",
    "cursor.execute('''\n",
    "    SELECT p.product_name, SUM(s.quantity) AS total_quantity\n",
    "    FROM products p\n",
    "    LEFT JOIN sales s ON p.product_id = s.product_id\n",
    "    GROUP BY p.product_name\n",
    "''')\n",
    "results = cursor.fetchall()\n",
    "print(\"\\nChallenge 3 Results:\")\n",
    "for row in results:\n",
    "    print(f\"Product: {row[0]}, Total Quantity: {row[1]}\")\n"
   ]
  },
  {
   "cell_type": "markdown",
   "metadata": {},
   "source": [
    "## 6. Conclusion\n",
    "\n",
    "This notebook covered the essentials of SQL, including:\n",
    "- Connecting to a SQLite database using Python's `sqlite3`.\n",
    "- Writing basic SQL queries (SELECT, INSERT, UPDATE, DELETE).\n",
    "- Understanding and applying INNER and LEFT joins.\n",
    "- Using aggregate functions and GROUP BY for data analysis.\n",
    "- Solving practical SQL challenges.\n",
    "\n",
    "To deepen your SQL knowledge, explore these resources:\n",
    "- [SQLZoo](https://sqlzoo.net/) for interactive SQL tutorials.\n",
    "- [W3Schools SQL Tutorial](https://www.w3schools.com/sql/) for beginner-friendly explanations.\n",
    "- [SQLite Documentation](https://www.sqlite.org/docs.html) for SQLite-specific details.\n",
    "\n",
    "Keep practicing, and you'll be querying databases like a pro in no time!"
   ]
  },
  {
   "cell_type": "code",
   "execution_count": 7,
   "metadata": {},
   "outputs": [
    {
     "name": "stdout",
     "output_type": "stream",
     "text": [
      "Database connection closed.\n"
     ]
    }
   ],
   "source": [
    "# Close the database connection\n",
    "conn.close()\n",
    "print(\"Database connection closed.\")\n"
   ]
  },
  {
   "cell_type": "code",
   "execution_count": null,
   "metadata": {},
   "outputs": [],
   "source": []
  }
 ],
 "metadata": {
  "kernelspec": {
   "display_name": "vorkis-test",
   "language": "python",
   "name": "python3"
  },
  "language_info": {
   "codemirror_mode": {
    "name": "ipython",
    "version": 3
   },
   "file_extension": ".py",
   "mimetype": "text/x-python",
   "name": "python",
   "nbconvert_exporter": "python",
   "pygments_lexer": "ipython3",
   "version": "3.10.13"
  }
 },
 "nbformat": 4,
 "nbformat_minor": 4
}
