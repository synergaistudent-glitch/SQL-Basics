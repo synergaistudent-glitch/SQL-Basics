{
 "cells": [
  {
   "cell_type": "markdown",
   "metadata": {},
   "source": [
    "# SQL Basics for Data Science — Hands-on Jupyter Notebook (Intern Level)\n",
    "\n",
    "## Introduction\n",
    "This notebook introduces foundational SQL concepts for data science using an e-commerce dataset. You'll learn to write SQL queries to analyze customer behavior, product sales, and order trends. Each section includes explanations, runnable queries, and exercises with solutions. Run cells in order to follow along.\n",
    "\n",
    "**How to run this notebook**:\n",
    "- Install dependencies: `pip install pandas jupyter sqlite3`\n",
    "- Start Jupyter: `jupyter notebook`\n",
    "- Run cells sequentially using Shift+Enter.\n",
    "\n",
    "**Dataset Overview**:\n",
    "- **customers**: customer_id, first_name, last_name, email, signup_date, country\n",
    "- **products**: product_id, product_name, category, price\n",
    "- **orders**: order_id, customer_id, order_date, status\n",
    "- **order_items**: order_item_id, order_id, product_id, quantity, unit_price\n",
    "\n",
    "**Schema Diagram** (ASCII):\n",
    "```\n",
    "customers(customer_id) ---- orders(customer_id)\n",
    "                               |\n",
    "                           order_items(order_id)\n",
    "                               |\n",
    "                           products(product_id)\n",
    "```"
   ]
  },
  {
   "cell_type": "code",
   "execution_count": 1,
   "metadata": {},
   "outputs": [
    {
     "name": "stdout",
     "output_type": "stream",
     "text": [
      "customers: 10 rows\n",
      "products: 10 rows\n",
      "orders: 10 rows\n",
      "order_items: 12 rows\n"
     ]
    }
   ],
   "source": [
    "# Setup and Data Loading\n",
    "import sqlite3\n",
    "import pandas as pd\n",
    "\n",
    "# Create in-memory SQLite database\n",
    "conn = sqlite3.connect(':memory:')\n",
    "cursor = conn.cursor()\n",
    "\n",
    "# Create tables\n",
    "cursor.executescript('''\n",
    "CREATE TABLE customers (\n",
    "    customer_id INTEGER PRIMARY KEY,\n",
    "    first_name TEXT,\n",
    "    last_name TEXT,\n",
    "    email TEXT,\n",
    "    signup_date TEXT,\n",
    "    country TEXT\n",
    ");\n",
    "CREATE TABLE products (\n",
    "    product_id INTEGER PRIMARY KEY,\n",
    "    product_name TEXT,\n",
    "    category TEXT,\n",
    "    price REAL\n",
    ");\n",
    "CREATE TABLE orders (\n",
    "    order_id INTEGER PRIMARY KEY,\n",
    "    customer_id INTEGER,\n",
    "    order_date TEXT,\n",
    "    status TEXT\n",
    ");\n",
    "CREATE TABLE order_items (\n",
    "    order_item_id INTEGER PRIMARY KEY,\n",
    "    order_id INTEGER,\n",
    "    product_id INTEGER,\n",
    "    quantity INTEGER,\n",
    "    unit_price REAL\n",
    ");\n",
    "''')\n",
    "\n",
    "# Insert sample data\n",
    "customers_data = [\n",
    "    (1, 'John', 'Doe', 'john.doe@email.com', '2023-01-15', 'USA'),\n",
    "    (2, 'Jane', 'Smith', 'jane.smith@email.com', '2023-02-10', 'UK'),\n",
    "    (3, 'Alice', 'Brown', 'alice.brown@email.com', '2023-03-01', 'Canada'),\n",
    "    (4, 'Bob', 'Wilson', 'bob.wilson@email.com', '2023-04-20', 'USA'),\n",
    "    (5, 'Emma', 'Davis', 'emma.davis@email.com', '2023-05-15', 'Australia'),\n",
    "    (6, 'Liam', 'Moore', 'liam.moore@email.com', '2023-06-01', 'UK'),\n",
    "    (7, 'Olivia', 'Taylor', 'olivia.taylor@email.com', '2023-07-10', 'Canada'),\n",
    "    (8, 'Noah', 'Anderson', 'noah.anderson@email.com', '2023-08-05', 'USA'),\n",
    "    (9, 'Sophia', 'Martinez', 'sophia.martinez@email.com', '2023-09-01', 'Australia'),\n",
    "    (10, 'William', 'Thomas', 'william.thomas@email.com', '2023-10-15', 'UK')\n",
    "]\n",
    "products_data = [\n",
    "    (1, 'Laptop', 'Electronics', 999.99),\n",
    "    (2, 'Smartphone', 'Electronics', 699.99),\n",
    "    (3, 'Headphones', 'Electronics', 89.99),\n",
    "    (4, 'T-Shirt', 'Clothing', 19.99),\n",
    "    (5, 'Jeans', 'Clothing', 49.99),\n",
    "    (6, 'Sneakers', 'Clothing', 79.99),\n",
    "    (7, 'Backpack', 'Accessories', 39.99),\n",
    "    (8, 'Watch', 'Accessories', 149.99),\n",
    "    (9, 'Sunglasses', 'Accessories', 99.99),\n",
    "    (10, 'Mouse', 'Electronics', 29.99)\n",
    "]\n",
    "orders_data = [\n",
    "    (1, 1, '2023-11-01', 'completed'),\n",
    "    (2, 2, '2023-11-05', 'completed'),\n",
    "    (3, 3, '2023-11-10', 'cancelled'),\n",
    "    (4, 4, '2023-11-15', 'completed'),\n",
    "    (5, 5, '2023-11-20', 'pending'),\n",
    "    (6, 1, '2023-12-01', 'completed'),\n",
    "    (7, 6, '2023-12-05', 'completed'),\n",
    "    (8, 7, '2023-12-10', 'cancelled'),\n",
    "    (9, 8, '2023-12-15', 'completed'),\n",
    "    (10, 2, '2023-12-20', 'completed')\n",
    "]\n",
    "order_items_data = [\n",
    "    (1, 1, 1, 1, 999.99),\n",
    "    (2, 1, 3, 2, 89.99),\n",
    "    (3, 2, 4, 3, 19.99),\n",
    "    (4, 2, 7, 1, 39.99),\n",
    "    (5, 3, 2, 1, 699.99),\n",
    "    (6, 4, 5, 2, 49.99),\n",
    "    (7, 4, 6, 1, 79.99),\n",
    "    (8, 6, 8, 1, 149.99),\n",
    "    (9, 7, 9, 2, 99.99),\n",
    "    (10, 9, 10, 3, 29.99),\n",
    "    (11, 10, 4, 5, 19.99),\n",
    "    (12, 10, 3, 1, 89.99)\n",
    "]\n",
    "\n",
    "cursor.executemany('INSERT INTO customers VALUES (?, ?, ?, ?, ?, ?)', customers_data)\n",
    "cursor.executemany('INSERT INTO products VALUES (?, ?, ?, ?)', products_data)\n",
    "cursor.executemany('INSERT INTO orders VALUES (?, ?, ?, ?)', orders_data)\n",
    "cursor.executemany('INSERT INTO order_items VALUES (?, ?, ?, ?, ?)', order_items_data)\n",
    "conn.commit()\n",
    "\n",
    "# Sanity check: Count rows in each table\n",
    "for table in ['customers', 'products', 'orders', 'order_items']:\n",
    "    df = pd.read_sql_query(f'SELECT COUNT(*) AS count FROM {table}', conn)\n",
    "    print(f'{table}: {df.iloc[0, 0]} rows')"
   ]
  },
  {
   "cell_type": "markdown",
   "metadata": {},
   "source": [
    "## SELECT Basics\n",
    "**Explanation**: The `SELECT` statement retrieves data from a table. Use `DISTINCT` to get unique values, `LIMIT` to restrict rows, and aliases (`AS`) for readable column names.\n",
    "\n",
    "**Example**: Select product names and prices, limit to 3 rows."
   ]
  },
  {
   "cell_type": "code",
   "execution_count": 3,
   "metadata": {},
   "outputs": [
    {
     "data": {
      "application/vnd.microsoft.datawrangler.viewer.v0+json": {
       "columns": [
        {
         "name": "index",
         "rawType": "int64",
         "type": "integer"
        },
        {
         "name": "name",
         "rawType": "object",
         "type": "string"
        },
        {
         "name": "unit_price",
         "rawType": "float64",
         "type": "float"
        }
       ],
       "ref": "aa04bbb5-5692-4a27-bc99-3721679a678b",
       "rows": [
        [
         "0",
         "Laptop",
         "999.99"
        ],
        [
         "1",
         "Smartphone",
         "699.99"
        ],
        [
         "2",
         "Headphones",
         "89.99"
        ]
       ],
       "shape": {
        "columns": 2,
        "rows": 3
       }
      },
      "text/html": [
       "<div>\n",
       "<style scoped>\n",
       "    .dataframe tbody tr th:only-of-type {\n",
       "        vertical-align: middle;\n",
       "    }\n",
       "\n",
       "    .dataframe tbody tr th {\n",
       "        vertical-align: top;\n",
       "    }\n",
       "\n",
       "    .dataframe thead th {\n",
       "        text-align: right;\n",
       "    }\n",
       "</style>\n",
       "<table border=\"1\" class=\"dataframe\">\n",
       "  <thead>\n",
       "    <tr style=\"text-align: right;\">\n",
       "      <th></th>\n",
       "      <th>name</th>\n",
       "      <th>unit_price</th>\n",
       "    </tr>\n",
       "  </thead>\n",
       "  <tbody>\n",
       "    <tr>\n",
       "      <th>0</th>\n",
       "      <td>Laptop</td>\n",
       "      <td>999.99</td>\n",
       "    </tr>\n",
       "    <tr>\n",
       "      <th>1</th>\n",
       "      <td>Smartphone</td>\n",
       "      <td>699.99</td>\n",
       "    </tr>\n",
       "    <tr>\n",
       "      <th>2</th>\n",
       "      <td>Headphones</td>\n",
       "      <td>89.99</td>\n",
       "    </tr>\n",
       "  </tbody>\n",
       "</table>\n",
       "</div>"
      ],
      "text/plain": [
       "         name  unit_price\n",
       "0      Laptop      999.99\n",
       "1  Smartphone      699.99\n",
       "2  Headphones       89.99"
      ]
     },
     "execution_count": 3,
     "metadata": {},
     "output_type": "execute_result"
    }
   ],
   "source": [
    "# Select product names and prices with a limit\n",
    "query = '''\n",
    "SELECT product_name AS name, price AS unit_price\n",
    "FROM products\n",
    "LIMIT 3;\n",
    "'''\n",
    "pd.read_sql_query(query, conn)"
   ]
  },
  {
   "cell_type": "markdown",
   "metadata": {},
   "source": [
    "**Exercise**: Write a query to list unique countries from the customers table."
   ]
  },
  {
   "cell_type": "code",
   "execution_count": 4,
   "metadata": {},
   "outputs": [
    {
     "ename": "TypeError",
     "evalue": "'NoneType' object is not iterable",
     "output_type": "error",
     "traceback": [
      "\u001b[31m---------------------------------------------------------------------------\u001b[39m",
      "\u001b[31mTypeError\u001b[39m                                 Traceback (most recent call last)",
      "\u001b[36mCell\u001b[39m\u001b[36m \u001b[39m\u001b[32mIn[4]\u001b[39m\u001b[32m, line 6\u001b[39m\n\u001b[32m      1\u001b[39m \u001b[38;5;66;03m# Your query here\u001b[39;00m\n\u001b[32m      2\u001b[39m query = \u001b[33m'''\u001b[39m\n\u001b[32m      3\u001b[39m \u001b[33m-- Write your query below\u001b[39m\n\u001b[32m      4\u001b[39m \n\u001b[32m      5\u001b[39m \u001b[33m'''\u001b[39m\n\u001b[32m----> \u001b[39m\u001b[32m6\u001b[39m \u001b[43mpd\u001b[49m\u001b[43m.\u001b[49m\u001b[43mread_sql_query\u001b[49m\u001b[43m(\u001b[49m\u001b[43mquery\u001b[49m\u001b[43m,\u001b[49m\u001b[43m \u001b[49m\u001b[43mconn\u001b[49m\u001b[43m)\u001b[49m\n",
      "\u001b[36mFile \u001b[39m\u001b[32mc:\\work\\SynergAI\\webhook\\synergai\\.venv\\Lib\\site-packages\\pandas\\io\\sql.py:528\u001b[39m, in \u001b[36mread_sql_query\u001b[39m\u001b[34m(sql, con, index_col, coerce_float, params, parse_dates, chunksize, dtype, dtype_backend)\u001b[39m\n\u001b[32m    525\u001b[39m \u001b[38;5;28;01massert\u001b[39;00m dtype_backend \u001b[38;5;129;01mis\u001b[39;00m \u001b[38;5;129;01mnot\u001b[39;00m lib.no_default\n\u001b[32m    527\u001b[39m \u001b[38;5;28;01mwith\u001b[39;00m pandasSQL_builder(con) \u001b[38;5;28;01mas\u001b[39;00m pandas_sql:\n\u001b[32m--> \u001b[39m\u001b[32m528\u001b[39m     \u001b[38;5;28;01mreturn\u001b[39;00m \u001b[43mpandas_sql\u001b[49m\u001b[43m.\u001b[49m\u001b[43mread_query\u001b[49m\u001b[43m(\u001b[49m\n\u001b[32m    529\u001b[39m \u001b[43m        \u001b[49m\u001b[43msql\u001b[49m\u001b[43m,\u001b[49m\n\u001b[32m    530\u001b[39m \u001b[43m        \u001b[49m\u001b[43mindex_col\u001b[49m\u001b[43m=\u001b[49m\u001b[43mindex_col\u001b[49m\u001b[43m,\u001b[49m\n\u001b[32m    531\u001b[39m \u001b[43m        \u001b[49m\u001b[43mparams\u001b[49m\u001b[43m=\u001b[49m\u001b[43mparams\u001b[49m\u001b[43m,\u001b[49m\n\u001b[32m    532\u001b[39m \u001b[43m        \u001b[49m\u001b[43mcoerce_float\u001b[49m\u001b[43m=\u001b[49m\u001b[43mcoerce_float\u001b[49m\u001b[43m,\u001b[49m\n\u001b[32m    533\u001b[39m \u001b[43m        \u001b[49m\u001b[43mparse_dates\u001b[49m\u001b[43m=\u001b[49m\u001b[43mparse_dates\u001b[49m\u001b[43m,\u001b[49m\n\u001b[32m    534\u001b[39m \u001b[43m        \u001b[49m\u001b[43mchunksize\u001b[49m\u001b[43m=\u001b[49m\u001b[43mchunksize\u001b[49m\u001b[43m,\u001b[49m\n\u001b[32m    535\u001b[39m \u001b[43m        \u001b[49m\u001b[43mdtype\u001b[49m\u001b[43m=\u001b[49m\u001b[43mdtype\u001b[49m\u001b[43m,\u001b[49m\n\u001b[32m    536\u001b[39m \u001b[43m        \u001b[49m\u001b[43mdtype_backend\u001b[49m\u001b[43m=\u001b[49m\u001b[43mdtype_backend\u001b[49m\u001b[43m,\u001b[49m\n\u001b[32m    537\u001b[39m \u001b[43m    \u001b[49m\u001b[43m)\u001b[49m\n",
      "\u001b[36mFile \u001b[39m\u001b[32mc:\\work\\SynergAI\\webhook\\synergai\\.venv\\Lib\\site-packages\\pandas\\io\\sql.py:2729\u001b[39m, in \u001b[36mSQLiteDatabase.read_query\u001b[39m\u001b[34m(self, sql, index_col, coerce_float, parse_dates, params, chunksize, dtype, dtype_backend)\u001b[39m\n\u001b[32m   2717\u001b[39m \u001b[38;5;28;01mdef\u001b[39;00m\u001b[38;5;250m \u001b[39m\u001b[34mread_query\u001b[39m(\n\u001b[32m   2718\u001b[39m     \u001b[38;5;28mself\u001b[39m,\n\u001b[32m   2719\u001b[39m     sql,\n\u001b[32m   (...)\u001b[39m\u001b[32m   2726\u001b[39m     dtype_backend: DtypeBackend | Literal[\u001b[33m\"\u001b[39m\u001b[33mnumpy\u001b[39m\u001b[33m\"\u001b[39m] = \u001b[33m\"\u001b[39m\u001b[33mnumpy\u001b[39m\u001b[33m\"\u001b[39m,\n\u001b[32m   2727\u001b[39m ) -> DataFrame | Iterator[DataFrame]:\n\u001b[32m   2728\u001b[39m     cursor = \u001b[38;5;28mself\u001b[39m.execute(sql, params)\n\u001b[32m-> \u001b[39m\u001b[32m2729\u001b[39m     columns = \u001b[43m[\u001b[49m\u001b[43mcol_desc\u001b[49m\u001b[43m[\u001b[49m\u001b[32;43m0\u001b[39;49m\u001b[43m]\u001b[49m\u001b[43m \u001b[49m\u001b[38;5;28;43;01mfor\u001b[39;49;00m\u001b[43m \u001b[49m\u001b[43mcol_desc\u001b[49m\u001b[43m \u001b[49m\u001b[38;5;129;43;01min\u001b[39;49;00m\u001b[43m \u001b[49m\u001b[43mcursor\u001b[49m\u001b[43m.\u001b[49m\u001b[43mdescription\u001b[49m\u001b[43m]\u001b[49m\n\u001b[32m   2731\u001b[39m     \u001b[38;5;28;01mif\u001b[39;00m chunksize \u001b[38;5;129;01mis\u001b[39;00m \u001b[38;5;129;01mnot\u001b[39;00m \u001b[38;5;28;01mNone\u001b[39;00m:\n\u001b[32m   2732\u001b[39m         \u001b[38;5;28;01mreturn\u001b[39;00m \u001b[38;5;28mself\u001b[39m._query_iterator(\n\u001b[32m   2733\u001b[39m             cursor,\n\u001b[32m   2734\u001b[39m             chunksize,\n\u001b[32m   (...)\u001b[39m\u001b[32m   2740\u001b[39m             dtype_backend=dtype_backend,\n\u001b[32m   2741\u001b[39m         )\n",
      "\u001b[31mTypeError\u001b[39m: 'NoneType' object is not iterable"
     ]
    }
   ],
   "source": [
    "# Your query here\n",
    "query = '''\n",
    "-- Write your query below\n",
    "\n",
    "'''\n",
    "pd.read_sql_query(query, conn)"
   ]
  },
  {
   "cell_type": "code",
   "execution_count": 5,
   "metadata": {},
   "outputs": [
    {
     "data": {
      "application/vnd.microsoft.datawrangler.viewer.v0+json": {
       "columns": [
        {
         "name": "index",
         "rawType": "int64",
         "type": "integer"
        },
        {
         "name": "country",
         "rawType": "object",
         "type": "string"
        }
       ],
       "ref": "e79c5938-8dda-420e-8f74-369276e30c6c",
       "rows": [
        [
         "0",
         "USA"
        ],
        [
         "1",
         "UK"
        ],
        [
         "2",
         "Canada"
        ],
        [
         "3",
         "Australia"
        ]
       ],
       "shape": {
        "columns": 1,
        "rows": 4
       }
      },
      "text/html": [
       "<div>\n",
       "<style scoped>\n",
       "    .dataframe tbody tr th:only-of-type {\n",
       "        vertical-align: middle;\n",
       "    }\n",
       "\n",
       "    .dataframe tbody tr th {\n",
       "        vertical-align: top;\n",
       "    }\n",
       "\n",
       "    .dataframe thead th {\n",
       "        text-align: right;\n",
       "    }\n",
       "</style>\n",
       "<table border=\"1\" class=\"dataframe\">\n",
       "  <thead>\n",
       "    <tr style=\"text-align: right;\">\n",
       "      <th></th>\n",
       "      <th>country</th>\n",
       "    </tr>\n",
       "  </thead>\n",
       "  <tbody>\n",
       "    <tr>\n",
       "      <th>0</th>\n",
       "      <td>USA</td>\n",
       "    </tr>\n",
       "    <tr>\n",
       "      <th>1</th>\n",
       "      <td>UK</td>\n",
       "    </tr>\n",
       "    <tr>\n",
       "      <th>2</th>\n",
       "      <td>Canada</td>\n",
       "    </tr>\n",
       "    <tr>\n",
       "      <th>3</th>\n",
       "      <td>Australia</td>\n",
       "    </tr>\n",
       "  </tbody>\n",
       "</table>\n",
       "</div>"
      ],
      "text/plain": [
       "     country\n",
       "0        USA\n",
       "1         UK\n",
       "2     Canada\n",
       "3  Australia"
      ]
     },
     "execution_count": 5,
     "metadata": {},
     "output_type": "execute_result"
    }
   ],
   "source": [
    "# Solution: Unique countries\n",
    "query = '''\n",
    "SELECT DISTINCT country\n",
    "FROM customers;\n",
    "'''\n",
    "pd.read_sql_query(query, conn)"
   ]
  },
  {
   "cell_type": "markdown",
   "metadata": {},
   "source": [
    "## Filtering with WHERE\n",
    "**Explanation**: `WHERE` filters rows based on conditions. Use operators like `=`, `>`, `<`, `BETWEEN`, `IN`, `LIKE`, `IS NULL`.\n",
    "\n",
    "**Example**: Find customers from the USA who signed up after March 2023."
   ]
  },
  {
   "cell_type": "code",
   "execution_count": 6,
   "metadata": {},
   "outputs": [
    {
     "data": {
      "application/vnd.microsoft.datawrangler.viewer.v0+json": {
       "columns": [
        {
         "name": "index",
         "rawType": "int64",
         "type": "integer"
        },
        {
         "name": "first_name",
         "rawType": "object",
         "type": "string"
        },
        {
         "name": "last_name",
         "rawType": "object",
         "type": "string"
        },
        {
         "name": "signup_date",
         "rawType": "object",
         "type": "string"
        }
       ],
       "ref": "496fe66e-8dc4-4955-82a6-0d3808958440",
       "rows": [
        [
         "0",
         "Bob",
         "Wilson",
         "2023-04-20"
        ],
        [
         "1",
         "Noah",
         "Anderson",
         "2023-08-05"
        ]
       ],
       "shape": {
        "columns": 3,
        "rows": 2
       }
      },
      "text/html": [
       "<div>\n",
       "<style scoped>\n",
       "    .dataframe tbody tr th:only-of-type {\n",
       "        vertical-align: middle;\n",
       "    }\n",
       "\n",
       "    .dataframe tbody tr th {\n",
       "        vertical-align: top;\n",
       "    }\n",
       "\n",
       "    .dataframe thead th {\n",
       "        text-align: right;\n",
       "    }\n",
       "</style>\n",
       "<table border=\"1\" class=\"dataframe\">\n",
       "  <thead>\n",
       "    <tr style=\"text-align: right;\">\n",
       "      <th></th>\n",
       "      <th>first_name</th>\n",
       "      <th>last_name</th>\n",
       "      <th>signup_date</th>\n",
       "    </tr>\n",
       "  </thead>\n",
       "  <tbody>\n",
       "    <tr>\n",
       "      <th>0</th>\n",
       "      <td>Bob</td>\n",
       "      <td>Wilson</td>\n",
       "      <td>2023-04-20</td>\n",
       "    </tr>\n",
       "    <tr>\n",
       "      <th>1</th>\n",
       "      <td>Noah</td>\n",
       "      <td>Anderson</td>\n",
       "      <td>2023-08-05</td>\n",
       "    </tr>\n",
       "  </tbody>\n",
       "</table>\n",
       "</div>"
      ],
      "text/plain": [
       "  first_name last_name signup_date\n",
       "0        Bob    Wilson  2023-04-20\n",
       "1       Noah  Anderson  2023-08-05"
      ]
     },
     "execution_count": 6,
     "metadata": {},
     "output_type": "execute_result"
    }
   ],
   "source": [
    "# Filter customers by country and signup date\n",
    "query = '''\n",
    "SELECT first_name, last_name, signup_date\n",
    "FROM customers\n",
    "WHERE country = 'USA' AND signup_date > '2023-03-01';\n",
    "'''\n",
    "pd.read_sql_query(query, conn)"
   ]
  },
  {
   "cell_type": "markdown",
   "metadata": {},
   "source": [
    "**Exercise**: Write a query to find customers from Canada who signed up after April 2023."
   ]
  },
  {
   "cell_type": "code",
   "execution_count": 7,
   "metadata": {},
   "outputs": [
    {
     "ename": "TypeError",
     "evalue": "'NoneType' object is not iterable",
     "output_type": "error",
     "traceback": [
      "\u001b[31m---------------------------------------------------------------------------\u001b[39m",
      "\u001b[31mTypeError\u001b[39m                                 Traceback (most recent call last)",
      "\u001b[36mCell\u001b[39m\u001b[36m \u001b[39m\u001b[32mIn[7]\u001b[39m\u001b[32m, line 6\u001b[39m\n\u001b[32m      1\u001b[39m \u001b[38;5;66;03m# Your query here\u001b[39;00m\n\u001b[32m      2\u001b[39m query = \u001b[33m'''\u001b[39m\n\u001b[32m      3\u001b[39m \u001b[33m-- Write your query below\u001b[39m\n\u001b[32m      4\u001b[39m \n\u001b[32m      5\u001b[39m \u001b[33m'''\u001b[39m\n\u001b[32m----> \u001b[39m\u001b[32m6\u001b[39m \u001b[43mpd\u001b[49m\u001b[43m.\u001b[49m\u001b[43mread_sql_query\u001b[49m\u001b[43m(\u001b[49m\u001b[43mquery\u001b[49m\u001b[43m,\u001b[49m\u001b[43m \u001b[49m\u001b[43mconn\u001b[49m\u001b[43m)\u001b[49m\n",
      "\u001b[36mFile \u001b[39m\u001b[32mc:\\work\\SynergAI\\webhook\\synergai\\.venv\\Lib\\site-packages\\pandas\\io\\sql.py:528\u001b[39m, in \u001b[36mread_sql_query\u001b[39m\u001b[34m(sql, con, index_col, coerce_float, params, parse_dates, chunksize, dtype, dtype_backend)\u001b[39m\n\u001b[32m    525\u001b[39m \u001b[38;5;28;01massert\u001b[39;00m dtype_backend \u001b[38;5;129;01mis\u001b[39;00m \u001b[38;5;129;01mnot\u001b[39;00m lib.no_default\n\u001b[32m    527\u001b[39m \u001b[38;5;28;01mwith\u001b[39;00m pandasSQL_builder(con) \u001b[38;5;28;01mas\u001b[39;00m pandas_sql:\n\u001b[32m--> \u001b[39m\u001b[32m528\u001b[39m     \u001b[38;5;28;01mreturn\u001b[39;00m \u001b[43mpandas_sql\u001b[49m\u001b[43m.\u001b[49m\u001b[43mread_query\u001b[49m\u001b[43m(\u001b[49m\n\u001b[32m    529\u001b[39m \u001b[43m        \u001b[49m\u001b[43msql\u001b[49m\u001b[43m,\u001b[49m\n\u001b[32m    530\u001b[39m \u001b[43m        \u001b[49m\u001b[43mindex_col\u001b[49m\u001b[43m=\u001b[49m\u001b[43mindex_col\u001b[49m\u001b[43m,\u001b[49m\n\u001b[32m    531\u001b[39m \u001b[43m        \u001b[49m\u001b[43mparams\u001b[49m\u001b[43m=\u001b[49m\u001b[43mparams\u001b[49m\u001b[43m,\u001b[49m\n\u001b[32m    532\u001b[39m \u001b[43m        \u001b[49m\u001b[43mcoerce_float\u001b[49m\u001b[43m=\u001b[49m\u001b[43mcoerce_float\u001b[49m\u001b[43m,\u001b[49m\n\u001b[32m    533\u001b[39m \u001b[43m        \u001b[49m\u001b[43mparse_dates\u001b[49m\u001b[43m=\u001b[49m\u001b[43mparse_dates\u001b[49m\u001b[43m,\u001b[49m\n\u001b[32m    534\u001b[39m \u001b[43m        \u001b[49m\u001b[43mchunksize\u001b[49m\u001b[43m=\u001b[49m\u001b[43mchunksize\u001b[49m\u001b[43m,\u001b[49m\n\u001b[32m    535\u001b[39m \u001b[43m        \u001b[49m\u001b[43mdtype\u001b[49m\u001b[43m=\u001b[49m\u001b[43mdtype\u001b[49m\u001b[43m,\u001b[49m\n\u001b[32m    536\u001b[39m \u001b[43m        \u001b[49m\u001b[43mdtype_backend\u001b[49m\u001b[43m=\u001b[49m\u001b[43mdtype_backend\u001b[49m\u001b[43m,\u001b[49m\n\u001b[32m    537\u001b[39m \u001b[43m    \u001b[49m\u001b[43m)\u001b[49m\n",
      "\u001b[36mFile \u001b[39m\u001b[32mc:\\work\\SynergAI\\webhook\\synergai\\.venv\\Lib\\site-packages\\pandas\\io\\sql.py:2729\u001b[39m, in \u001b[36mSQLiteDatabase.read_query\u001b[39m\u001b[34m(self, sql, index_col, coerce_float, parse_dates, params, chunksize, dtype, dtype_backend)\u001b[39m\n\u001b[32m   2717\u001b[39m \u001b[38;5;28;01mdef\u001b[39;00m\u001b[38;5;250m \u001b[39m\u001b[34mread_query\u001b[39m(\n\u001b[32m   2718\u001b[39m     \u001b[38;5;28mself\u001b[39m,\n\u001b[32m   2719\u001b[39m     sql,\n\u001b[32m   (...)\u001b[39m\u001b[32m   2726\u001b[39m     dtype_backend: DtypeBackend | Literal[\u001b[33m\"\u001b[39m\u001b[33mnumpy\u001b[39m\u001b[33m\"\u001b[39m] = \u001b[33m\"\u001b[39m\u001b[33mnumpy\u001b[39m\u001b[33m\"\u001b[39m,\n\u001b[32m   2727\u001b[39m ) -> DataFrame | Iterator[DataFrame]:\n\u001b[32m   2728\u001b[39m     cursor = \u001b[38;5;28mself\u001b[39m.execute(sql, params)\n\u001b[32m-> \u001b[39m\u001b[32m2729\u001b[39m     columns = \u001b[43m[\u001b[49m\u001b[43mcol_desc\u001b[49m\u001b[43m[\u001b[49m\u001b[32;43m0\u001b[39;49m\u001b[43m]\u001b[49m\u001b[43m \u001b[49m\u001b[38;5;28;43;01mfor\u001b[39;49;00m\u001b[43m \u001b[49m\u001b[43mcol_desc\u001b[49m\u001b[43m \u001b[49m\u001b[38;5;129;43;01min\u001b[39;49;00m\u001b[43m \u001b[49m\u001b[43mcursor\u001b[49m\u001b[43m.\u001b[49m\u001b[43mdescription\u001b[49m\u001b[43m]\u001b[49m\n\u001b[32m   2731\u001b[39m     \u001b[38;5;28;01mif\u001b[39;00m chunksize \u001b[38;5;129;01mis\u001b[39;00m \u001b[38;5;129;01mnot\u001b[39;00m \u001b[38;5;28;01mNone\u001b[39;00m:\n\u001b[32m   2732\u001b[39m         \u001b[38;5;28;01mreturn\u001b[39;00m \u001b[38;5;28mself\u001b[39m._query_iterator(\n\u001b[32m   2733\u001b[39m             cursor,\n\u001b[32m   2734\u001b[39m             chunksize,\n\u001b[32m   (...)\u001b[39m\u001b[32m   2740\u001b[39m             dtype_backend=dtype_backend,\n\u001b[32m   2741\u001b[39m         )\n",
      "\u001b[31mTypeError\u001b[39m: 'NoneType' object is not iterable"
     ]
    }
   ],
   "source": [
    "# Your query here\n",
    "query = '''\n",
    "-- Write your query below\n",
    "\n",
    "'''\n",
    "pd.read_sql_query(query, conn)"
   ]
  },
  {
   "cell_type": "code",
   "execution_count": 8,
   "metadata": {},
   "outputs": [
    {
     "data": {
      "application/vnd.microsoft.datawrangler.viewer.v0+json": {
       "columns": [
        {
         "name": "index",
         "rawType": "int64",
         "type": "integer"
        },
        {
         "name": "first_name",
         "rawType": "object",
         "type": "string"
        },
        {
         "name": "last_name",
         "rawType": "object",
         "type": "string"
        },
        {
         "name": "signup_date",
         "rawType": "object",
         "type": "string"
        }
       ],
       "ref": "a655189a-2f88-49d4-b8bf-6ad295d6bfdf",
       "rows": [
        [
         "0",
         "Olivia",
         "Taylor",
         "2023-07-10"
        ]
       ],
       "shape": {
        "columns": 3,
        "rows": 1
       }
      },
      "text/html": [
       "<div>\n",
       "<style scoped>\n",
       "    .dataframe tbody tr th:only-of-type {\n",
       "        vertical-align: middle;\n",
       "    }\n",
       "\n",
       "    .dataframe tbody tr th {\n",
       "        vertical-align: top;\n",
       "    }\n",
       "\n",
       "    .dataframe thead th {\n",
       "        text-align: right;\n",
       "    }\n",
       "</style>\n",
       "<table border=\"1\" class=\"dataframe\">\n",
       "  <thead>\n",
       "    <tr style=\"text-align: right;\">\n",
       "      <th></th>\n",
       "      <th>first_name</th>\n",
       "      <th>last_name</th>\n",
       "      <th>signup_date</th>\n",
       "    </tr>\n",
       "  </thead>\n",
       "  <tbody>\n",
       "    <tr>\n",
       "      <th>0</th>\n",
       "      <td>Olivia</td>\n",
       "      <td>Taylor</td>\n",
       "      <td>2023-07-10</td>\n",
       "    </tr>\n",
       "  </tbody>\n",
       "</table>\n",
       "</div>"
      ],
      "text/plain": [
       "  first_name last_name signup_date\n",
       "0     Olivia    Taylor  2023-07-10"
      ]
     },
     "execution_count": 8,
     "metadata": {},
     "output_type": "execute_result"
    }
   ],
   "source": [
    "# Solution: Customers from Canada after April 2023\n",
    "query = '''\n",
    "SELECT first_name, last_name, signup_date\n",
    "FROM customers\n",
    "WHERE country = 'Canada' AND signup_date > '2023-04-01';\n",
    "'''\n",
    "pd.read_sql_query(query, conn)"
   ]
  },
  {
   "cell_type": "markdown",
   "metadata": {},
   "source": [
    "## Sorting with ORDER BY and Limiting Results\n",
    "**Explanation**: `ORDER BY` sorts results (ASC or DESC). Combine with `LIMIT` to get top/bottom rows.\n",
    "\n",
    "**Example**: Find the top 3 most expensive products."
   ]
  },
  {
   "cell_type": "code",
   "execution_count": 9,
   "metadata": {},
   "outputs": [
    {
     "data": {
      "application/vnd.microsoft.datawrangler.viewer.v0+json": {
       "columns": [
        {
         "name": "index",
         "rawType": "int64",
         "type": "integer"
        },
        {
         "name": "product_name",
         "rawType": "object",
         "type": "string"
        },
        {
         "name": "price",
         "rawType": "float64",
         "type": "float"
        }
       ],
       "ref": "164ca71a-c231-400c-987f-933bcdddd1e6",
       "rows": [
        [
         "0",
         "Laptop",
         "999.99"
        ],
        [
         "1",
         "Smartphone",
         "699.99"
        ],
        [
         "2",
         "Watch",
         "149.99"
        ]
       ],
       "shape": {
        "columns": 2,
        "rows": 3
       }
      },
      "text/html": [
       "<div>\n",
       "<style scoped>\n",
       "    .dataframe tbody tr th:only-of-type {\n",
       "        vertical-align: middle;\n",
       "    }\n",
       "\n",
       "    .dataframe tbody tr th {\n",
       "        vertical-align: top;\n",
       "    }\n",
       "\n",
       "    .dataframe thead th {\n",
       "        text-align: right;\n",
       "    }\n",
       "</style>\n",
       "<table border=\"1\" class=\"dataframe\">\n",
       "  <thead>\n",
       "    <tr style=\"text-align: right;\">\n",
       "      <th></th>\n",
       "      <th>product_name</th>\n",
       "      <th>price</th>\n",
       "    </tr>\n",
       "  </thead>\n",
       "  <tbody>\n",
       "    <tr>\n",
       "      <th>0</th>\n",
       "      <td>Laptop</td>\n",
       "      <td>999.99</td>\n",
       "    </tr>\n",
       "    <tr>\n",
       "      <th>1</th>\n",
       "      <td>Smartphone</td>\n",
       "      <td>699.99</td>\n",
       "    </tr>\n",
       "    <tr>\n",
       "      <th>2</th>\n",
       "      <td>Watch</td>\n",
       "      <td>149.99</td>\n",
       "    </tr>\n",
       "  </tbody>\n",
       "</table>\n",
       "</div>"
      ],
      "text/plain": [
       "  product_name   price\n",
       "0       Laptop  999.99\n",
       "1   Smartphone  699.99\n",
       "2        Watch  149.99"
      ]
     },
     "execution_count": 9,
     "metadata": {},
     "output_type": "execute_result"
    }
   ],
   "source": [
    "# Top 3 most expensive products\n",
    "query = '''\n",
    "SELECT product_name, price\n",
    "FROM products\n",
    "ORDER BY price DESC\n",
    "LIMIT 3;\n",
    "'''\n",
    "pd.read_sql_query(query, conn)"
   ]
  },
  {
   "cell_type": "markdown",
   "metadata": {},
   "source": [
    "**Exercise**: Write a query to find the 5 cheapest products, sorted by price ascending."
   ]
  },
  {
   "cell_type": "code",
   "execution_count": 10,
   "metadata": {},
   "outputs": [
    {
     "ename": "TypeError",
     "evalue": "'NoneType' object is not iterable",
     "output_type": "error",
     "traceback": [
      "\u001b[31m---------------------------------------------------------------------------\u001b[39m",
      "\u001b[31mTypeError\u001b[39m                                 Traceback (most recent call last)",
      "\u001b[36mCell\u001b[39m\u001b[36m \u001b[39m\u001b[32mIn[10]\u001b[39m\u001b[32m, line 6\u001b[39m\n\u001b[32m      1\u001b[39m \u001b[38;5;66;03m# Your query here\u001b[39;00m\n\u001b[32m      2\u001b[39m query = \u001b[33m'''\u001b[39m\n\u001b[32m      3\u001b[39m \u001b[33m-- Write your query below\u001b[39m\n\u001b[32m      4\u001b[39m \n\u001b[32m      5\u001b[39m \u001b[33m'''\u001b[39m\n\u001b[32m----> \u001b[39m\u001b[32m6\u001b[39m \u001b[43mpd\u001b[49m\u001b[43m.\u001b[49m\u001b[43mread_sql_query\u001b[49m\u001b[43m(\u001b[49m\u001b[43mquery\u001b[49m\u001b[43m,\u001b[49m\u001b[43m \u001b[49m\u001b[43mconn\u001b[49m\u001b[43m)\u001b[49m\n",
      "\u001b[36mFile \u001b[39m\u001b[32mc:\\work\\SynergAI\\webhook\\synergai\\.venv\\Lib\\site-packages\\pandas\\io\\sql.py:528\u001b[39m, in \u001b[36mread_sql_query\u001b[39m\u001b[34m(sql, con, index_col, coerce_float, params, parse_dates, chunksize, dtype, dtype_backend)\u001b[39m\n\u001b[32m    525\u001b[39m \u001b[38;5;28;01massert\u001b[39;00m dtype_backend \u001b[38;5;129;01mis\u001b[39;00m \u001b[38;5;129;01mnot\u001b[39;00m lib.no_default\n\u001b[32m    527\u001b[39m \u001b[38;5;28;01mwith\u001b[39;00m pandasSQL_builder(con) \u001b[38;5;28;01mas\u001b[39;00m pandas_sql:\n\u001b[32m--> \u001b[39m\u001b[32m528\u001b[39m     \u001b[38;5;28;01mreturn\u001b[39;00m \u001b[43mpandas_sql\u001b[49m\u001b[43m.\u001b[49m\u001b[43mread_query\u001b[49m\u001b[43m(\u001b[49m\n\u001b[32m    529\u001b[39m \u001b[43m        \u001b[49m\u001b[43msql\u001b[49m\u001b[43m,\u001b[49m\n\u001b[32m    530\u001b[39m \u001b[43m        \u001b[49m\u001b[43mindex_col\u001b[49m\u001b[43m=\u001b[49m\u001b[43mindex_col\u001b[49m\u001b[43m,\u001b[49m\n\u001b[32m    531\u001b[39m \u001b[43m        \u001b[49m\u001b[43mparams\u001b[49m\u001b[43m=\u001b[49m\u001b[43mparams\u001b[49m\u001b[43m,\u001b[49m\n\u001b[32m    532\u001b[39m \u001b[43m        \u001b[49m\u001b[43mcoerce_float\u001b[49m\u001b[43m=\u001b[49m\u001b[43mcoerce_float\u001b[49m\u001b[43m,\u001b[49m\n\u001b[32m    533\u001b[39m \u001b[43m        \u001b[49m\u001b[43mparse_dates\u001b[49m\u001b[43m=\u001b[49m\u001b[43mparse_dates\u001b[49m\u001b[43m,\u001b[49m\n\u001b[32m    534\u001b[39m \u001b[43m        \u001b[49m\u001b[43mchunksize\u001b[49m\u001b[43m=\u001b[49m\u001b[43mchunksize\u001b[49m\u001b[43m,\u001b[49m\n\u001b[32m    535\u001b[39m \u001b[43m        \u001b[49m\u001b[43mdtype\u001b[49m\u001b[43m=\u001b[49m\u001b[43mdtype\u001b[49m\u001b[43m,\u001b[49m\n\u001b[32m    536\u001b[39m \u001b[43m        \u001b[49m\u001b[43mdtype_backend\u001b[49m\u001b[43m=\u001b[49m\u001b[43mdtype_backend\u001b[49m\u001b[43m,\u001b[49m\n\u001b[32m    537\u001b[39m \u001b[43m    \u001b[49m\u001b[43m)\u001b[49m\n",
      "\u001b[36mFile \u001b[39m\u001b[32mc:\\work\\SynergAI\\webhook\\synergai\\.venv\\Lib\\site-packages\\pandas\\io\\sql.py:2729\u001b[39m, in \u001b[36mSQLiteDatabase.read_query\u001b[39m\u001b[34m(self, sql, index_col, coerce_float, parse_dates, params, chunksize, dtype, dtype_backend)\u001b[39m\n\u001b[32m   2717\u001b[39m \u001b[38;5;28;01mdef\u001b[39;00m\u001b[38;5;250m \u001b[39m\u001b[34mread_query\u001b[39m(\n\u001b[32m   2718\u001b[39m     \u001b[38;5;28mself\u001b[39m,\n\u001b[32m   2719\u001b[39m     sql,\n\u001b[32m   (...)\u001b[39m\u001b[32m   2726\u001b[39m     dtype_backend: DtypeBackend | Literal[\u001b[33m\"\u001b[39m\u001b[33mnumpy\u001b[39m\u001b[33m\"\u001b[39m] = \u001b[33m\"\u001b[39m\u001b[33mnumpy\u001b[39m\u001b[33m\"\u001b[39m,\n\u001b[32m   2727\u001b[39m ) -> DataFrame | Iterator[DataFrame]:\n\u001b[32m   2728\u001b[39m     cursor = \u001b[38;5;28mself\u001b[39m.execute(sql, params)\n\u001b[32m-> \u001b[39m\u001b[32m2729\u001b[39m     columns = \u001b[43m[\u001b[49m\u001b[43mcol_desc\u001b[49m\u001b[43m[\u001b[49m\u001b[32;43m0\u001b[39;49m\u001b[43m]\u001b[49m\u001b[43m \u001b[49m\u001b[38;5;28;43;01mfor\u001b[39;49;00m\u001b[43m \u001b[49m\u001b[43mcol_desc\u001b[49m\u001b[43m \u001b[49m\u001b[38;5;129;43;01min\u001b[39;49;00m\u001b[43m \u001b[49m\u001b[43mcursor\u001b[49m\u001b[43m.\u001b[49m\u001b[43mdescription\u001b[49m\u001b[43m]\u001b[49m\n\u001b[32m   2731\u001b[39m     \u001b[38;5;28;01mif\u001b[39;00m chunksize \u001b[38;5;129;01mis\u001b[39;00m \u001b[38;5;129;01mnot\u001b[39;00m \u001b[38;5;28;01mNone\u001b[39;00m:\n\u001b[32m   2732\u001b[39m         \u001b[38;5;28;01mreturn\u001b[39;00m \u001b[38;5;28mself\u001b[39m._query_iterator(\n\u001b[32m   2733\u001b[39m             cursor,\n\u001b[32m   2734\u001b[39m             chunksize,\n\u001b[32m   (...)\u001b[39m\u001b[32m   2740\u001b[39m             dtype_backend=dtype_backend,\n\u001b[32m   2741\u001b[39m         )\n",
      "\u001b[31mTypeError\u001b[39m: 'NoneType' object is not iterable"
     ]
    }
   ],
   "source": [
    "# Your query here\n",
    "query = '''\n",
    "-- Write your query below\n",
    "\n",
    "'''\n",
    "pd.read_sql_query(query, conn)"
   ]
  },
  {
   "cell_type": "code",
   "execution_count": 11,
   "metadata": {},
   "outputs": [
    {
     "data": {
      "application/vnd.microsoft.datawrangler.viewer.v0+json": {
       "columns": [
        {
         "name": "index",
         "rawType": "int64",
         "type": "integer"
        },
        {
         "name": "product_name",
         "rawType": "object",
         "type": "string"
        },
        {
         "name": "price",
         "rawType": "float64",
         "type": "float"
        }
       ],
       "ref": "a2590b23-c7d4-40f1-ac1b-8e83dbeb1565",
       "rows": [
        [
         "0",
         "T-Shirt",
         "19.99"
        ],
        [
         "1",
         "Mouse",
         "29.99"
        ],
        [
         "2",
         "Backpack",
         "39.99"
        ],
        [
         "3",
         "Jeans",
         "49.99"
        ],
        [
         "4",
         "Sneakers",
         "79.99"
        ]
       ],
       "shape": {
        "columns": 2,
        "rows": 5
       }
      },
      "text/html": [
       "<div>\n",
       "<style scoped>\n",
       "    .dataframe tbody tr th:only-of-type {\n",
       "        vertical-align: middle;\n",
       "    }\n",
       "\n",
       "    .dataframe tbody tr th {\n",
       "        vertical-align: top;\n",
       "    }\n",
       "\n",
       "    .dataframe thead th {\n",
       "        text-align: right;\n",
       "    }\n",
       "</style>\n",
       "<table border=\"1\" class=\"dataframe\">\n",
       "  <thead>\n",
       "    <tr style=\"text-align: right;\">\n",
       "      <th></th>\n",
       "      <th>product_name</th>\n",
       "      <th>price</th>\n",
       "    </tr>\n",
       "  </thead>\n",
       "  <tbody>\n",
       "    <tr>\n",
       "      <th>0</th>\n",
       "      <td>T-Shirt</td>\n",
       "      <td>19.99</td>\n",
       "    </tr>\n",
       "    <tr>\n",
       "      <th>1</th>\n",
       "      <td>Mouse</td>\n",
       "      <td>29.99</td>\n",
       "    </tr>\n",
       "    <tr>\n",
       "      <th>2</th>\n",
       "      <td>Backpack</td>\n",
       "      <td>39.99</td>\n",
       "    </tr>\n",
       "    <tr>\n",
       "      <th>3</th>\n",
       "      <td>Jeans</td>\n",
       "      <td>49.99</td>\n",
       "    </tr>\n",
       "    <tr>\n",
       "      <th>4</th>\n",
       "      <td>Sneakers</td>\n",
       "      <td>79.99</td>\n",
       "    </tr>\n",
       "  </tbody>\n",
       "</table>\n",
       "</div>"
      ],
      "text/plain": [
       "  product_name  price\n",
       "0      T-Shirt  19.99\n",
       "1        Mouse  29.99\n",
       "2     Backpack  39.99\n",
       "3        Jeans  49.99\n",
       "4     Sneakers  79.99"
      ]
     },
     "execution_count": 11,
     "metadata": {},
     "output_type": "execute_result"
    }
   ],
   "source": [
    "# Solution: 5 cheapest products\n",
    "query = '''\n",
    "SELECT product_name, price\n",
    "FROM products\n",
    "ORDER BY price ASC\n",
    "LIMIT 5;\n",
    "'''\n",
    "pd.read_sql_query(query, conn)"
   ]
  },
  {
   "cell_type": "markdown",
   "metadata": {},
   "source": [
    "## JOINs (INNER and LEFT)\n",
    "**Explanation**: `INNER JOIN` matches rows between tables; `LEFT JOIN` keeps all rows from the left table. Use to combine data across tables.\n",
    "\n",
    "**Example**: Calculate revenue per order item (quantity * unit_price)."
   ]
  },
  {
   "cell_type": "code",
   "execution_count": 12,
   "metadata": {},
   "outputs": [
    {
     "data": {
      "application/vnd.microsoft.datawrangler.viewer.v0+json": {
       "columns": [
        {
         "name": "index",
         "rawType": "int64",
         "type": "integer"
        },
        {
         "name": "order_id",
         "rawType": "int64",
         "type": "integer"
        },
        {
         "name": "product_name",
         "rawType": "object",
         "type": "string"
        },
        {
         "name": "quantity",
         "rawType": "int64",
         "type": "integer"
        },
        {
         "name": "unit_price",
         "rawType": "float64",
         "type": "float"
        },
        {
         "name": "revenue",
         "rawType": "float64",
         "type": "float"
        }
       ],
       "ref": "c2c85158-f340-480e-a797-2a533566d6be",
       "rows": [
        [
         "0",
         "1",
         "Laptop",
         "1",
         "999.99",
         "999.99"
        ],
        [
         "1",
         "1",
         "Headphones",
         "2",
         "89.99",
         "179.98"
        ],
        [
         "2",
         "2",
         "T-Shirt",
         "3",
         "19.99",
         "59.97"
        ],
        [
         "3",
         "2",
         "Backpack",
         "1",
         "39.99",
         "39.99"
        ],
        [
         "4",
         "3",
         "Smartphone",
         "1",
         "699.99",
         "699.99"
        ],
        [
         "5",
         "4",
         "Jeans",
         "2",
         "49.99",
         "99.98"
        ],
        [
         "6",
         "4",
         "Sneakers",
         "1",
         "79.99",
         "79.99"
        ],
        [
         "7",
         "6",
         "Watch",
         "1",
         "149.99",
         "149.99"
        ],
        [
         "8",
         "7",
         "Sunglasses",
         "2",
         "99.99",
         "199.98"
        ],
        [
         "9",
         "9",
         "Mouse",
         "3",
         "29.99",
         "89.97"
        ],
        [
         "10",
         "10",
         "T-Shirt",
         "5",
         "19.99",
         "99.94999999999999"
        ],
        [
         "11",
         "10",
         "Headphones",
         "1",
         "89.99",
         "89.99"
        ]
       ],
       "shape": {
        "columns": 5,
        "rows": 12
       }
      },
      "text/html": [
       "<div>\n",
       "<style scoped>\n",
       "    .dataframe tbody tr th:only-of-type {\n",
       "        vertical-align: middle;\n",
       "    }\n",
       "\n",
       "    .dataframe tbody tr th {\n",
       "        vertical-align: top;\n",
       "    }\n",
       "\n",
       "    .dataframe thead th {\n",
       "        text-align: right;\n",
       "    }\n",
       "</style>\n",
       "<table border=\"1\" class=\"dataframe\">\n",
       "  <thead>\n",
       "    <tr style=\"text-align: right;\">\n",
       "      <th></th>\n",
       "      <th>order_id</th>\n",
       "      <th>product_name</th>\n",
       "      <th>quantity</th>\n",
       "      <th>unit_price</th>\n",
       "      <th>revenue</th>\n",
       "    </tr>\n",
       "  </thead>\n",
       "  <tbody>\n",
       "    <tr>\n",
       "      <th>0</th>\n",
       "      <td>1</td>\n",
       "      <td>Laptop</td>\n",
       "      <td>1</td>\n",
       "      <td>999.99</td>\n",
       "      <td>999.99</td>\n",
       "    </tr>\n",
       "    <tr>\n",
       "      <th>1</th>\n",
       "      <td>1</td>\n",
       "      <td>Headphones</td>\n",
       "      <td>2</td>\n",
       "      <td>89.99</td>\n",
       "      <td>179.98</td>\n",
       "    </tr>\n",
       "    <tr>\n",
       "      <th>2</th>\n",
       "      <td>2</td>\n",
       "      <td>T-Shirt</td>\n",
       "      <td>3</td>\n",
       "      <td>19.99</td>\n",
       "      <td>59.97</td>\n",
       "    </tr>\n",
       "    <tr>\n",
       "      <th>3</th>\n",
       "      <td>2</td>\n",
       "      <td>Backpack</td>\n",
       "      <td>1</td>\n",
       "      <td>39.99</td>\n",
       "      <td>39.99</td>\n",
       "    </tr>\n",
       "    <tr>\n",
       "      <th>4</th>\n",
       "      <td>3</td>\n",
       "      <td>Smartphone</td>\n",
       "      <td>1</td>\n",
       "      <td>699.99</td>\n",
       "      <td>699.99</td>\n",
       "    </tr>\n",
       "    <tr>\n",
       "      <th>5</th>\n",
       "      <td>4</td>\n",
       "      <td>Jeans</td>\n",
       "      <td>2</td>\n",
       "      <td>49.99</td>\n",
       "      <td>99.98</td>\n",
       "    </tr>\n",
       "    <tr>\n",
       "      <th>6</th>\n",
       "      <td>4</td>\n",
       "      <td>Sneakers</td>\n",
       "      <td>1</td>\n",
       "      <td>79.99</td>\n",
       "      <td>79.99</td>\n",
       "    </tr>\n",
       "    <tr>\n",
       "      <th>7</th>\n",
       "      <td>6</td>\n",
       "      <td>Watch</td>\n",
       "      <td>1</td>\n",
       "      <td>149.99</td>\n",
       "      <td>149.99</td>\n",
       "    </tr>\n",
       "    <tr>\n",
       "      <th>8</th>\n",
       "      <td>7</td>\n",
       "      <td>Sunglasses</td>\n",
       "      <td>2</td>\n",
       "      <td>99.99</td>\n",
       "      <td>199.98</td>\n",
       "    </tr>\n",
       "    <tr>\n",
       "      <th>9</th>\n",
       "      <td>9</td>\n",
       "      <td>Mouse</td>\n",
       "      <td>3</td>\n",
       "      <td>29.99</td>\n",
       "      <td>89.97</td>\n",
       "    </tr>\n",
       "    <tr>\n",
       "      <th>10</th>\n",
       "      <td>10</td>\n",
       "      <td>T-Shirt</td>\n",
       "      <td>5</td>\n",
       "      <td>19.99</td>\n",
       "      <td>99.95</td>\n",
       "    </tr>\n",
       "    <tr>\n",
       "      <th>11</th>\n",
       "      <td>10</td>\n",
       "      <td>Headphones</td>\n",
       "      <td>1</td>\n",
       "      <td>89.99</td>\n",
       "      <td>89.99</td>\n",
       "    </tr>\n",
       "  </tbody>\n",
       "</table>\n",
       "</div>"
      ],
      "text/plain": [
       "    order_id product_name  quantity  unit_price  revenue\n",
       "0          1       Laptop         1      999.99   999.99\n",
       "1          1   Headphones         2       89.99   179.98\n",
       "2          2      T-Shirt         3       19.99    59.97\n",
       "3          2     Backpack         1       39.99    39.99\n",
       "4          3   Smartphone         1      699.99   699.99\n",
       "5          4        Jeans         2       49.99    99.98\n",
       "6          4     Sneakers         1       79.99    79.99\n",
       "7          6        Watch         1      149.99   149.99\n",
       "8          7   Sunglasses         2       99.99   199.98\n",
       "9          9        Mouse         3       29.99    89.97\n",
       "10        10      T-Shirt         5       19.99    99.95\n",
       "11        10   Headphones         1       89.99    89.99"
      ]
     },
     "execution_count": 12,
     "metadata": {},
     "output_type": "execute_result"
    }
   ],
   "source": [
    "# Revenue per order item\n",
    "query = '''\n",
    "SELECT oi.order_id, p.product_name, oi.quantity, oi.unit_price, (oi.quantity * oi.unit_price) AS revenue\n",
    "FROM order_items oi\n",
    "INNER JOIN products p ON oi.product_id = p.product_id;\n",
    "'''\n",
    "pd.read_sql_query(query, conn)"
   ]
  },
  {
   "cell_type": "markdown",
   "metadata": {},
   "source": [
    "**Exercise**: List all customers and their last completed order date (use LEFT JOIN)."
   ]
  },
  {
   "cell_type": "code",
   "execution_count": 13,
   "metadata": {},
   "outputs": [
    {
     "ename": "TypeError",
     "evalue": "'NoneType' object is not iterable",
     "output_type": "error",
     "traceback": [
      "\u001b[31m---------------------------------------------------------------------------\u001b[39m",
      "\u001b[31mTypeError\u001b[39m                                 Traceback (most recent call last)",
      "\u001b[36mCell\u001b[39m\u001b[36m \u001b[39m\u001b[32mIn[13]\u001b[39m\u001b[32m, line 6\u001b[39m\n\u001b[32m      1\u001b[39m \u001b[38;5;66;03m# Your query here\u001b[39;00m\n\u001b[32m      2\u001b[39m query = \u001b[33m'''\u001b[39m\n\u001b[32m      3\u001b[39m \u001b[33m-- Write your query below\u001b[39m\n\u001b[32m      4\u001b[39m \n\u001b[32m      5\u001b[39m \u001b[33m'''\u001b[39m\n\u001b[32m----> \u001b[39m\u001b[32m6\u001b[39m \u001b[43mpd\u001b[49m\u001b[43m.\u001b[49m\u001b[43mread_sql_query\u001b[49m\u001b[43m(\u001b[49m\u001b[43mquery\u001b[49m\u001b[43m,\u001b[49m\u001b[43m \u001b[49m\u001b[43mconn\u001b[49m\u001b[43m)\u001b[49m\n",
      "\u001b[36mFile \u001b[39m\u001b[32mc:\\work\\SynergAI\\webhook\\synergai\\.venv\\Lib\\site-packages\\pandas\\io\\sql.py:528\u001b[39m, in \u001b[36mread_sql_query\u001b[39m\u001b[34m(sql, con, index_col, coerce_float, params, parse_dates, chunksize, dtype, dtype_backend)\u001b[39m\n\u001b[32m    525\u001b[39m \u001b[38;5;28;01massert\u001b[39;00m dtype_backend \u001b[38;5;129;01mis\u001b[39;00m \u001b[38;5;129;01mnot\u001b[39;00m lib.no_default\n\u001b[32m    527\u001b[39m \u001b[38;5;28;01mwith\u001b[39;00m pandasSQL_builder(con) \u001b[38;5;28;01mas\u001b[39;00m pandas_sql:\n\u001b[32m--> \u001b[39m\u001b[32m528\u001b[39m     \u001b[38;5;28;01mreturn\u001b[39;00m \u001b[43mpandas_sql\u001b[49m\u001b[43m.\u001b[49m\u001b[43mread_query\u001b[49m\u001b[43m(\u001b[49m\n\u001b[32m    529\u001b[39m \u001b[43m        \u001b[49m\u001b[43msql\u001b[49m\u001b[43m,\u001b[49m\n\u001b[32m    530\u001b[39m \u001b[43m        \u001b[49m\u001b[43mindex_col\u001b[49m\u001b[43m=\u001b[49m\u001b[43mindex_col\u001b[49m\u001b[43m,\u001b[49m\n\u001b[32m    531\u001b[39m \u001b[43m        \u001b[49m\u001b[43mparams\u001b[49m\u001b[43m=\u001b[49m\u001b[43mparams\u001b[49m\u001b[43m,\u001b[49m\n\u001b[32m    532\u001b[39m \u001b[43m        \u001b[49m\u001b[43mcoerce_float\u001b[49m\u001b[43m=\u001b[49m\u001b[43mcoerce_float\u001b[49m\u001b[43m,\u001b[49m\n\u001b[32m    533\u001b[39m \u001b[43m        \u001b[49m\u001b[43mparse_dates\u001b[49m\u001b[43m=\u001b[49m\u001b[43mparse_dates\u001b[49m\u001b[43m,\u001b[49m\n\u001b[32m    534\u001b[39m \u001b[43m        \u001b[49m\u001b[43mchunksize\u001b[49m\u001b[43m=\u001b[49m\u001b[43mchunksize\u001b[49m\u001b[43m,\u001b[49m\n\u001b[32m    535\u001b[39m \u001b[43m        \u001b[49m\u001b[43mdtype\u001b[49m\u001b[43m=\u001b[49m\u001b[43mdtype\u001b[49m\u001b[43m,\u001b[49m\n\u001b[32m    536\u001b[39m \u001b[43m        \u001b[49m\u001b[43mdtype_backend\u001b[49m\u001b[43m=\u001b[49m\u001b[43mdtype_backend\u001b[49m\u001b[43m,\u001b[49m\n\u001b[32m    537\u001b[39m \u001b[43m    \u001b[49m\u001b[43m)\u001b[49m\n",
      "\u001b[36mFile \u001b[39m\u001b[32mc:\\work\\SynergAI\\webhook\\synergai\\.venv\\Lib\\site-packages\\pandas\\io\\sql.py:2729\u001b[39m, in \u001b[36mSQLiteDatabase.read_query\u001b[39m\u001b[34m(self, sql, index_col, coerce_float, parse_dates, params, chunksize, dtype, dtype_backend)\u001b[39m\n\u001b[32m   2717\u001b[39m \u001b[38;5;28;01mdef\u001b[39;00m\u001b[38;5;250m \u001b[39m\u001b[34mread_query\u001b[39m(\n\u001b[32m   2718\u001b[39m     \u001b[38;5;28mself\u001b[39m,\n\u001b[32m   2719\u001b[39m     sql,\n\u001b[32m   (...)\u001b[39m\u001b[32m   2726\u001b[39m     dtype_backend: DtypeBackend | Literal[\u001b[33m\"\u001b[39m\u001b[33mnumpy\u001b[39m\u001b[33m\"\u001b[39m] = \u001b[33m\"\u001b[39m\u001b[33mnumpy\u001b[39m\u001b[33m\"\u001b[39m,\n\u001b[32m   2727\u001b[39m ) -> DataFrame | Iterator[DataFrame]:\n\u001b[32m   2728\u001b[39m     cursor = \u001b[38;5;28mself\u001b[39m.execute(sql, params)\n\u001b[32m-> \u001b[39m\u001b[32m2729\u001b[39m     columns = \u001b[43m[\u001b[49m\u001b[43mcol_desc\u001b[49m\u001b[43m[\u001b[49m\u001b[32;43m0\u001b[39;49m\u001b[43m]\u001b[49m\u001b[43m \u001b[49m\u001b[38;5;28;43;01mfor\u001b[39;49;00m\u001b[43m \u001b[49m\u001b[43mcol_desc\u001b[49m\u001b[43m \u001b[49m\u001b[38;5;129;43;01min\u001b[39;49;00m\u001b[43m \u001b[49m\u001b[43mcursor\u001b[49m\u001b[43m.\u001b[49m\u001b[43mdescription\u001b[49m\u001b[43m]\u001b[49m\n\u001b[32m   2731\u001b[39m     \u001b[38;5;28;01mif\u001b[39;00m chunksize \u001b[38;5;129;01mis\u001b[39;00m \u001b[38;5;129;01mnot\u001b[39;00m \u001b[38;5;28;01mNone\u001b[39;00m:\n\u001b[32m   2732\u001b[39m         \u001b[38;5;28;01mreturn\u001b[39;00m \u001b[38;5;28mself\u001b[39m._query_iterator(\n\u001b[32m   2733\u001b[39m             cursor,\n\u001b[32m   2734\u001b[39m             chunksize,\n\u001b[32m   (...)\u001b[39m\u001b[32m   2740\u001b[39m             dtype_backend=dtype_backend,\n\u001b[32m   2741\u001b[39m         )\n",
      "\u001b[31mTypeError\u001b[39m: 'NoneType' object is not iterable"
     ]
    }
   ],
   "source": [
    "# Your query here\n",
    "query = '''\n",
    "-- Write your query below\n",
    "\n",
    "'''\n",
    "pd.read_sql_query(query, conn)"
   ]
  },
  {
   "cell_type": "code",
   "execution_count": 14,
   "metadata": {},
   "outputs": [
    {
     "data": {
      "application/vnd.microsoft.datawrangler.viewer.v0+json": {
       "columns": [
        {
         "name": "index",
         "rawType": "int64",
         "type": "integer"
        },
        {
         "name": "first_name",
         "rawType": "object",
         "type": "string"
        },
        {
         "name": "last_name",
         "rawType": "object",
         "type": "string"
        },
        {
         "name": "last_order_date",
         "rawType": "object",
         "type": "unknown"
        }
       ],
       "ref": "a6409651-4800-40af-ba55-d35e73b09530",
       "rows": [
        [
         "0",
         "John",
         "Doe",
         "2023-12-01"
        ],
        [
         "1",
         "Jane",
         "Smith",
         "2023-12-20"
        ],
        [
         "2",
         "Bob",
         "Wilson",
         "2023-11-15"
        ],
        [
         "3",
         "Liam",
         "Moore",
         "2023-12-05"
        ],
        [
         "4",
         "Noah",
         "Anderson",
         "2023-12-15"
        ],
        [
         "5",
         "Sophia",
         "Martinez",
         null
        ],
        [
         "6",
         "William",
         "Thomas",
         null
        ]
       ],
       "shape": {
        "columns": 3,
        "rows": 7
       }
      },
      "text/html": [
       "<div>\n",
       "<style scoped>\n",
       "    .dataframe tbody tr th:only-of-type {\n",
       "        vertical-align: middle;\n",
       "    }\n",
       "\n",
       "    .dataframe tbody tr th {\n",
       "        vertical-align: top;\n",
       "    }\n",
       "\n",
       "    .dataframe thead th {\n",
       "        text-align: right;\n",
       "    }\n",
       "</style>\n",
       "<table border=\"1\" class=\"dataframe\">\n",
       "  <thead>\n",
       "    <tr style=\"text-align: right;\">\n",
       "      <th></th>\n",
       "      <th>first_name</th>\n",
       "      <th>last_name</th>\n",
       "      <th>last_order_date</th>\n",
       "    </tr>\n",
       "  </thead>\n",
       "  <tbody>\n",
       "    <tr>\n",
       "      <th>0</th>\n",
       "      <td>John</td>\n",
       "      <td>Doe</td>\n",
       "      <td>2023-12-01</td>\n",
       "    </tr>\n",
       "    <tr>\n",
       "      <th>1</th>\n",
       "      <td>Jane</td>\n",
       "      <td>Smith</td>\n",
       "      <td>2023-12-20</td>\n",
       "    </tr>\n",
       "    <tr>\n",
       "      <th>2</th>\n",
       "      <td>Bob</td>\n",
       "      <td>Wilson</td>\n",
       "      <td>2023-11-15</td>\n",
       "    </tr>\n",
       "    <tr>\n",
       "      <th>3</th>\n",
       "      <td>Liam</td>\n",
       "      <td>Moore</td>\n",
       "      <td>2023-12-05</td>\n",
       "    </tr>\n",
       "    <tr>\n",
       "      <th>4</th>\n",
       "      <td>Noah</td>\n",
       "      <td>Anderson</td>\n",
       "      <td>2023-12-15</td>\n",
       "    </tr>\n",
       "    <tr>\n",
       "      <th>5</th>\n",
       "      <td>Sophia</td>\n",
       "      <td>Martinez</td>\n",
       "      <td>None</td>\n",
       "    </tr>\n",
       "    <tr>\n",
       "      <th>6</th>\n",
       "      <td>William</td>\n",
       "      <td>Thomas</td>\n",
       "      <td>None</td>\n",
       "    </tr>\n",
       "  </tbody>\n",
       "</table>\n",
       "</div>"
      ],
      "text/plain": [
       "  first_name last_name last_order_date\n",
       "0       John       Doe      2023-12-01\n",
       "1       Jane     Smith      2023-12-20\n",
       "2        Bob    Wilson      2023-11-15\n",
       "3       Liam     Moore      2023-12-05\n",
       "4       Noah  Anderson      2023-12-15\n",
       "5     Sophia  Martinez            None\n",
       "6    William    Thomas            None"
      ]
     },
     "execution_count": 14,
     "metadata": {},
     "output_type": "execute_result"
    }
   ],
   "source": [
    "# Solution: Customers with last completed order date\n",
    "query = '''\n",
    "SELECT c.first_name, c.last_name, MAX(o.order_date) AS last_order_date\n",
    "FROM customers c\n",
    "LEFT JOIN orders o ON c.customer_id = o.customer_id\n",
    "WHERE o.status = 'completed' OR o.order_date IS NULL\n",
    "GROUP BY c.customer_id, c.first_name, c.last_name;\n",
    "'''\n",
    "pd.read_sql_query(query, conn)"
   ]
  },
  {
   "cell_type": "markdown",
   "metadata": {},
   "source": [
    "## Aggregations and GROUP BY\n",
    "**Explanation**: `GROUP BY` groups rows for aggregation. Use `COUNT`, `SUM`, `AVG`, `MIN`, `MAX` to summarize data.\n",
    "\n",
    "**Example**: Calculate total revenue by product category for completed orders."
   ]
  },
  {
   "cell_type": "code",
   "execution_count": 15,
   "metadata": {},
   "outputs": [
    {
     "data": {
      "application/vnd.microsoft.datawrangler.viewer.v0+json": {
       "columns": [
        {
         "name": "index",
         "rawType": "int64",
         "type": "integer"
        },
        {
         "name": "category",
         "rawType": "object",
         "type": "string"
        },
        {
         "name": "total_revenue",
         "rawType": "float64",
         "type": "float"
        }
       ],
       "ref": "9d5d3b1a-46c2-4452-9b41-44e4b186d50d",
       "rows": [
        [
         "0",
         "Accessories",
         "389.96"
        ],
        [
         "1",
         "Clothing",
         "339.89"
        ],
        [
         "2",
         "Electronics",
         "1359.93"
        ]
       ],
       "shape": {
        "columns": 2,
        "rows": 3
       }
      },
      "text/html": [
       "<div>\n",
       "<style scoped>\n",
       "    .dataframe tbody tr th:only-of-type {\n",
       "        vertical-align: middle;\n",
       "    }\n",
       "\n",
       "    .dataframe tbody tr th {\n",
       "        vertical-align: top;\n",
       "    }\n",
       "\n",
       "    .dataframe thead th {\n",
       "        text-align: right;\n",
       "    }\n",
       "</style>\n",
       "<table border=\"1\" class=\"dataframe\">\n",
       "  <thead>\n",
       "    <tr style=\"text-align: right;\">\n",
       "      <th></th>\n",
       "      <th>category</th>\n",
       "      <th>total_revenue</th>\n",
       "    </tr>\n",
       "  </thead>\n",
       "  <tbody>\n",
       "    <tr>\n",
       "      <th>0</th>\n",
       "      <td>Accessories</td>\n",
       "      <td>389.96</td>\n",
       "    </tr>\n",
       "    <tr>\n",
       "      <th>1</th>\n",
       "      <td>Clothing</td>\n",
       "      <td>339.89</td>\n",
       "    </tr>\n",
       "    <tr>\n",
       "      <th>2</th>\n",
       "      <td>Electronics</td>\n",
       "      <td>1359.93</td>\n",
       "    </tr>\n",
       "  </tbody>\n",
       "</table>\n",
       "</div>"
      ],
      "text/plain": [
       "      category  total_revenue\n",
       "0  Accessories         389.96\n",
       "1     Clothing         339.89\n",
       "2  Electronics        1359.93"
      ]
     },
     "execution_count": 15,
     "metadata": {},
     "output_type": "execute_result"
    }
   ],
   "source": [
    "# Revenue by product category\n",
    "query = '''\n",
    "SELECT p.category, SUM(oi.quantity * oi.unit_price) AS total_revenue\n",
    "FROM order_items oi\n",
    "INNER JOIN products p ON oi.product_id = p.product_id\n",
    "INNER JOIN orders o ON oi.order_id = o.order_id\n",
    "WHERE o.status = 'completed'\n",
    "GROUP BY p.category;\n",
    "'''\n",
    "pd.read_sql_query(query, conn)"
   ]
  },
  {
   "cell_type": "markdown",
   "metadata": {},
   "source": [
    "**Exercise**: Calculate total quantity sold per product."
   ]
  },
  {
   "cell_type": "code",
   "execution_count": 16,
   "metadata": {},
   "outputs": [
    {
     "ename": "TypeError",
     "evalue": "'NoneType' object is not iterable",
     "output_type": "error",
     "traceback": [
      "\u001b[31m---------------------------------------------------------------------------\u001b[39m",
      "\u001b[31mTypeError\u001b[39m                                 Traceback (most recent call last)",
      "\u001b[36mCell\u001b[39m\u001b[36m \u001b[39m\u001b[32mIn[16]\u001b[39m\u001b[32m, line 6\u001b[39m\n\u001b[32m      1\u001b[39m \u001b[38;5;66;03m# Your query here\u001b[39;00m\n\u001b[32m      2\u001b[39m query = \u001b[33m'''\u001b[39m\n\u001b[32m      3\u001b[39m \u001b[33m-- Write your query below\u001b[39m\n\u001b[32m      4\u001b[39m \n\u001b[32m      5\u001b[39m \u001b[33m'''\u001b[39m\n\u001b[32m----> \u001b[39m\u001b[32m6\u001b[39m \u001b[43mpd\u001b[49m\u001b[43m.\u001b[49m\u001b[43mread_sql_query\u001b[49m\u001b[43m(\u001b[49m\u001b[43mquery\u001b[49m\u001b[43m,\u001b[49m\u001b[43m \u001b[49m\u001b[43mconn\u001b[49m\u001b[43m)\u001b[49m\n",
      "\u001b[36mFile \u001b[39m\u001b[32mc:\\work\\SynergAI\\webhook\\synergai\\.venv\\Lib\\site-packages\\pandas\\io\\sql.py:528\u001b[39m, in \u001b[36mread_sql_query\u001b[39m\u001b[34m(sql, con, index_col, coerce_float, params, parse_dates, chunksize, dtype, dtype_backend)\u001b[39m\n\u001b[32m    525\u001b[39m \u001b[38;5;28;01massert\u001b[39;00m dtype_backend \u001b[38;5;129;01mis\u001b[39;00m \u001b[38;5;129;01mnot\u001b[39;00m lib.no_default\n\u001b[32m    527\u001b[39m \u001b[38;5;28;01mwith\u001b[39;00m pandasSQL_builder(con) \u001b[38;5;28;01mas\u001b[39;00m pandas_sql:\n\u001b[32m--> \u001b[39m\u001b[32m528\u001b[39m     \u001b[38;5;28;01mreturn\u001b[39;00m \u001b[43mpandas_sql\u001b[49m\u001b[43m.\u001b[49m\u001b[43mread_query\u001b[49m\u001b[43m(\u001b[49m\n\u001b[32m    529\u001b[39m \u001b[43m        \u001b[49m\u001b[43msql\u001b[49m\u001b[43m,\u001b[49m\n\u001b[32m    530\u001b[39m \u001b[43m        \u001b[49m\u001b[43mindex_col\u001b[49m\u001b[43m=\u001b[49m\u001b[43mindex_col\u001b[49m\u001b[43m,\u001b[49m\n\u001b[32m    531\u001b[39m \u001b[43m        \u001b[49m\u001b[43mparams\u001b[49m\u001b[43m=\u001b[49m\u001b[43mparams\u001b[49m\u001b[43m,\u001b[49m\n\u001b[32m    532\u001b[39m \u001b[43m        \u001b[49m\u001b[43mcoerce_float\u001b[49m\u001b[43m=\u001b[49m\u001b[43mcoerce_float\u001b[49m\u001b[43m,\u001b[49m\n\u001b[32m    533\u001b[39m \u001b[43m        \u001b[49m\u001b[43mparse_dates\u001b[49m\u001b[43m=\u001b[49m\u001b[43mparse_dates\u001b[49m\u001b[43m,\u001b[49m\n\u001b[32m    534\u001b[39m \u001b[43m        \u001b[49m\u001b[43mchunksize\u001b[49m\u001b[43m=\u001b[49m\u001b[43mchunksize\u001b[49m\u001b[43m,\u001b[49m\n\u001b[32m    535\u001b[39m \u001b[43m        \u001b[49m\u001b[43mdtype\u001b[49m\u001b[43m=\u001b[49m\u001b[43mdtype\u001b[49m\u001b[43m,\u001b[49m\n\u001b[32m    536\u001b[39m \u001b[43m        \u001b[49m\u001b[43mdtype_backend\u001b[49m\u001b[43m=\u001b[49m\u001b[43mdtype_backend\u001b[49m\u001b[43m,\u001b[49m\n\u001b[32m    537\u001b[39m \u001b[43m    \u001b[49m\u001b[43m)\u001b[49m\n",
      "\u001b[36mFile \u001b[39m\u001b[32mc:\\work\\SynergAI\\webhook\\synergai\\.venv\\Lib\\site-packages\\pandas\\io\\sql.py:2729\u001b[39m, in \u001b[36mSQLiteDatabase.read_query\u001b[39m\u001b[34m(self, sql, index_col, coerce_float, parse_dates, params, chunksize, dtype, dtype_backend)\u001b[39m\n\u001b[32m   2717\u001b[39m \u001b[38;5;28;01mdef\u001b[39;00m\u001b[38;5;250m \u001b[39m\u001b[34mread_query\u001b[39m(\n\u001b[32m   2718\u001b[39m     \u001b[38;5;28mself\u001b[39m,\n\u001b[32m   2719\u001b[39m     sql,\n\u001b[32m   (...)\u001b[39m\u001b[32m   2726\u001b[39m     dtype_backend: DtypeBackend | Literal[\u001b[33m\"\u001b[39m\u001b[33mnumpy\u001b[39m\u001b[33m\"\u001b[39m] = \u001b[33m\"\u001b[39m\u001b[33mnumpy\u001b[39m\u001b[33m\"\u001b[39m,\n\u001b[32m   2727\u001b[39m ) -> DataFrame | Iterator[DataFrame]:\n\u001b[32m   2728\u001b[39m     cursor = \u001b[38;5;28mself\u001b[39m.execute(sql, params)\n\u001b[32m-> \u001b[39m\u001b[32m2729\u001b[39m     columns = \u001b[43m[\u001b[49m\u001b[43mcol_desc\u001b[49m\u001b[43m[\u001b[49m\u001b[32;43m0\u001b[39;49m\u001b[43m]\u001b[49m\u001b[43m \u001b[49m\u001b[38;5;28;43;01mfor\u001b[39;49;00m\u001b[43m \u001b[49m\u001b[43mcol_desc\u001b[49m\u001b[43m \u001b[49m\u001b[38;5;129;43;01min\u001b[39;49;00m\u001b[43m \u001b[49m\u001b[43mcursor\u001b[49m\u001b[43m.\u001b[49m\u001b[43mdescription\u001b[49m\u001b[43m]\u001b[49m\n\u001b[32m   2731\u001b[39m     \u001b[38;5;28;01mif\u001b[39;00m chunksize \u001b[38;5;129;01mis\u001b[39;00m \u001b[38;5;129;01mnot\u001b[39;00m \u001b[38;5;28;01mNone\u001b[39;00m:\n\u001b[32m   2732\u001b[39m         \u001b[38;5;28;01mreturn\u001b[39;00m \u001b[38;5;28mself\u001b[39m._query_iterator(\n\u001b[32m   2733\u001b[39m             cursor,\n\u001b[32m   2734\u001b[39m             chunksize,\n\u001b[32m   (...)\u001b[39m\u001b[32m   2740\u001b[39m             dtype_backend=dtype_backend,\n\u001b[32m   2741\u001b[39m         )\n",
      "\u001b[31mTypeError\u001b[39m: 'NoneType' object is not iterable"
     ]
    }
   ],
   "source": [
    "# Your query here\n",
    "query = '''\n",
    "-- Write your query below\n",
    "\n",
    "'''\n",
    "pd.read_sql_query(query, conn)"
   ]
  },
  {
   "cell_type": "code",
   "execution_count": 17,
   "metadata": {},
   "outputs": [
    {
     "data": {
      "application/vnd.microsoft.datawrangler.viewer.v0+json": {
       "columns": [
        {
         "name": "index",
         "rawType": "int64",
         "type": "integer"
        },
        {
         "name": "product_name",
         "rawType": "object",
         "type": "string"
        },
        {
         "name": "total_quantity",
         "rawType": "int64",
         "type": "integer"
        }
       ],
       "ref": "5e8b7be4-0088-4621-96f8-c52bd660583e",
       "rows": [
        [
         "0",
         "Backpack",
         "1"
        ],
        [
         "1",
         "Headphones",
         "3"
        ],
        [
         "2",
         "Jeans",
         "2"
        ],
        [
         "3",
         "Laptop",
         "1"
        ],
        [
         "4",
         "Mouse",
         "3"
        ],
        [
         "5",
         "Sneakers",
         "1"
        ],
        [
         "6",
         "Sunglasses",
         "2"
        ],
        [
         "7",
         "T-Shirt",
         "8"
        ],
        [
         "8",
         "Watch",
         "1"
        ]
       ],
       "shape": {
        "columns": 2,
        "rows": 9
       }
      },
      "text/html": [
       "<div>\n",
       "<style scoped>\n",
       "    .dataframe tbody tr th:only-of-type {\n",
       "        vertical-align: middle;\n",
       "    }\n",
       "\n",
       "    .dataframe tbody tr th {\n",
       "        vertical-align: top;\n",
       "    }\n",
       "\n",
       "    .dataframe thead th {\n",
       "        text-align: right;\n",
       "    }\n",
       "</style>\n",
       "<table border=\"1\" class=\"dataframe\">\n",
       "  <thead>\n",
       "    <tr style=\"text-align: right;\">\n",
       "      <th></th>\n",
       "      <th>product_name</th>\n",
       "      <th>total_quantity</th>\n",
       "    </tr>\n",
       "  </thead>\n",
       "  <tbody>\n",
       "    <tr>\n",
       "      <th>0</th>\n",
       "      <td>Backpack</td>\n",
       "      <td>1</td>\n",
       "    </tr>\n",
       "    <tr>\n",
       "      <th>1</th>\n",
       "      <td>Headphones</td>\n",
       "      <td>3</td>\n",
       "    </tr>\n",
       "    <tr>\n",
       "      <th>2</th>\n",
       "      <td>Jeans</td>\n",
       "      <td>2</td>\n",
       "    </tr>\n",
       "    <tr>\n",
       "      <th>3</th>\n",
       "      <td>Laptop</td>\n",
       "      <td>1</td>\n",
       "    </tr>\n",
       "    <tr>\n",
       "      <th>4</th>\n",
       "      <td>Mouse</td>\n",
       "      <td>3</td>\n",
       "    </tr>\n",
       "    <tr>\n",
       "      <th>5</th>\n",
       "      <td>Sneakers</td>\n",
       "      <td>1</td>\n",
       "    </tr>\n",
       "    <tr>\n",
       "      <th>6</th>\n",
       "      <td>Sunglasses</td>\n",
       "      <td>2</td>\n",
       "    </tr>\n",
       "    <tr>\n",
       "      <th>7</th>\n",
       "      <td>T-Shirt</td>\n",
       "      <td>8</td>\n",
       "    </tr>\n",
       "    <tr>\n",
       "      <th>8</th>\n",
       "      <td>Watch</td>\n",
       "      <td>1</td>\n",
       "    </tr>\n",
       "  </tbody>\n",
       "</table>\n",
       "</div>"
      ],
      "text/plain": [
       "  product_name  total_quantity\n",
       "0     Backpack               1\n",
       "1   Headphones               3\n",
       "2        Jeans               2\n",
       "3       Laptop               1\n",
       "4        Mouse               3\n",
       "5     Sneakers               1\n",
       "6   Sunglasses               2\n",
       "7      T-Shirt               8\n",
       "8        Watch               1"
      ]
     },
     "execution_count": 17,
     "metadata": {},
     "output_type": "execute_result"
    }
   ],
   "source": [
    "# Solution: Total quantity per product\n",
    "query = '''\n",
    "SELECT p.product_name, SUM(oi.quantity) AS total_quantity\n",
    "FROM order_items oi\n",
    "INNER JOIN products p ON oi.product_id = p.product_id\n",
    "INNER JOIN orders o ON oi.order_id = o.order_id\n",
    "WHERE o.status = 'completed'\n",
    "GROUP BY p.product_name;\n",
    "'''\n",
    "pd.read_sql_query(query, conn)"
   ]
  },
  {
   "cell_type": "markdown",
   "metadata": {},
   "source": [
    "## HAVING\n",
    "**Explanation**: `HAVING` filters grouped results, used after `GROUP BY`.\n",
    "\n",
    "**Example**: Find categories with total revenue > $500."
   ]
  },
  {
   "cell_type": "code",
   "execution_count": 18,
   "metadata": {},
   "outputs": [
    {
     "data": {
      "application/vnd.microsoft.datawrangler.viewer.v0+json": {
       "columns": [
        {
         "name": "index",
         "rawType": "int64",
         "type": "integer"
        },
        {
         "name": "category",
         "rawType": "object",
         "type": "string"
        },
        {
         "name": "total_revenue",
         "rawType": "float64",
         "type": "float"
        }
       ],
       "ref": "632fe505-46f6-4623-9b4e-575220770a28",
       "rows": [
        [
         "0",
         "Electronics",
         "1359.93"
        ]
       ],
       "shape": {
        "columns": 2,
        "rows": 1
       }
      },
      "text/html": [
       "<div>\n",
       "<style scoped>\n",
       "    .dataframe tbody tr th:only-of-type {\n",
       "        vertical-align: middle;\n",
       "    }\n",
       "\n",
       "    .dataframe tbody tr th {\n",
       "        vertical-align: top;\n",
       "    }\n",
       "\n",
       "    .dataframe thead th {\n",
       "        text-align: right;\n",
       "    }\n",
       "</style>\n",
       "<table border=\"1\" class=\"dataframe\">\n",
       "  <thead>\n",
       "    <tr style=\"text-align: right;\">\n",
       "      <th></th>\n",
       "      <th>category</th>\n",
       "      <th>total_revenue</th>\n",
       "    </tr>\n",
       "  </thead>\n",
       "  <tbody>\n",
       "    <tr>\n",
       "      <th>0</th>\n",
       "      <td>Electronics</td>\n",
       "      <td>1359.93</td>\n",
       "    </tr>\n",
       "  </tbody>\n",
       "</table>\n",
       "</div>"
      ],
      "text/plain": [
       "      category  total_revenue\n",
       "0  Electronics        1359.93"
      ]
     },
     "execution_count": 18,
     "metadata": {},
     "output_type": "execute_result"
    }
   ],
   "source": [
    "# Categories with revenue > $500\n",
    "query = '''\n",
    "SELECT p.category, SUM(oi.quantity * oi.unit_price) AS total_revenue\n",
    "FROM order_items oi\n",
    "INNER JOIN products p ON oi.product_id = p.product_id\n",
    "INNER JOIN orders o ON oi.order_id = o.order_id\n",
    "WHERE o.status = 'completed'\n",
    "GROUP BY p.category\n",
    "HAVING total_revenue > 500;\n",
    "'''\n",
    "pd.read_sql_query(query, conn)"
   ]
  },
  {
   "cell_type": "markdown",
   "metadata": {},
   "source": [
    "**Exercise**: Find countries with at least 2 completed orders and average order value > $100."
   ]
  },
  {
   "cell_type": "code",
   "execution_count": 19,
   "metadata": {},
   "outputs": [
    {
     "ename": "TypeError",
     "evalue": "'NoneType' object is not iterable",
     "output_type": "error",
     "traceback": [
      "\u001b[31m---------------------------------------------------------------------------\u001b[39m",
      "\u001b[31mTypeError\u001b[39m                                 Traceback (most recent call last)",
      "\u001b[36mCell\u001b[39m\u001b[36m \u001b[39m\u001b[32mIn[19]\u001b[39m\u001b[32m, line 6\u001b[39m\n\u001b[32m      1\u001b[39m \u001b[38;5;66;03m# Your query here\u001b[39;00m\n\u001b[32m      2\u001b[39m query = \u001b[33m'''\u001b[39m\n\u001b[32m      3\u001b[39m \u001b[33m-- Write your query below\u001b[39m\n\u001b[32m      4\u001b[39m \n\u001b[32m      5\u001b[39m \u001b[33m'''\u001b[39m\n\u001b[32m----> \u001b[39m\u001b[32m6\u001b[39m \u001b[43mpd\u001b[49m\u001b[43m.\u001b[49m\u001b[43mread_sql_query\u001b[49m\u001b[43m(\u001b[49m\u001b[43mquery\u001b[49m\u001b[43m,\u001b[49m\u001b[43m \u001b[49m\u001b[43mconn\u001b[49m\u001b[43m)\u001b[49m\n",
      "\u001b[36mFile \u001b[39m\u001b[32mc:\\work\\SynergAI\\webhook\\synergai\\.venv\\Lib\\site-packages\\pandas\\io\\sql.py:528\u001b[39m, in \u001b[36mread_sql_query\u001b[39m\u001b[34m(sql, con, index_col, coerce_float, params, parse_dates, chunksize, dtype, dtype_backend)\u001b[39m\n\u001b[32m    525\u001b[39m \u001b[38;5;28;01massert\u001b[39;00m dtype_backend \u001b[38;5;129;01mis\u001b[39;00m \u001b[38;5;129;01mnot\u001b[39;00m lib.no_default\n\u001b[32m    527\u001b[39m \u001b[38;5;28;01mwith\u001b[39;00m pandasSQL_builder(con) \u001b[38;5;28;01mas\u001b[39;00m pandas_sql:\n\u001b[32m--> \u001b[39m\u001b[32m528\u001b[39m     \u001b[38;5;28;01mreturn\u001b[39;00m \u001b[43mpandas_sql\u001b[49m\u001b[43m.\u001b[49m\u001b[43mread_query\u001b[49m\u001b[43m(\u001b[49m\n\u001b[32m    529\u001b[39m \u001b[43m        \u001b[49m\u001b[43msql\u001b[49m\u001b[43m,\u001b[49m\n\u001b[32m    530\u001b[39m \u001b[43m        \u001b[49m\u001b[43mindex_col\u001b[49m\u001b[43m=\u001b[49m\u001b[43mindex_col\u001b[49m\u001b[43m,\u001b[49m\n\u001b[32m    531\u001b[39m \u001b[43m        \u001b[49m\u001b[43mparams\u001b[49m\u001b[43m=\u001b[49m\u001b[43mparams\u001b[49m\u001b[43m,\u001b[49m\n\u001b[32m    532\u001b[39m \u001b[43m        \u001b[49m\u001b[43mcoerce_float\u001b[49m\u001b[43m=\u001b[49m\u001b[43mcoerce_float\u001b[49m\u001b[43m,\u001b[49m\n\u001b[32m    533\u001b[39m \u001b[43m        \u001b[49m\u001b[43mparse_dates\u001b[49m\u001b[43m=\u001b[49m\u001b[43mparse_dates\u001b[49m\u001b[43m,\u001b[49m\n\u001b[32m    534\u001b[39m \u001b[43m        \u001b[49m\u001b[43mchunksize\u001b[49m\u001b[43m=\u001b[49m\u001b[43mchunksize\u001b[49m\u001b[43m,\u001b[49m\n\u001b[32m    535\u001b[39m \u001b[43m        \u001b[49m\u001b[43mdtype\u001b[49m\u001b[43m=\u001b[49m\u001b[43mdtype\u001b[49m\u001b[43m,\u001b[49m\n\u001b[32m    536\u001b[39m \u001b[43m        \u001b[49m\u001b[43mdtype_backend\u001b[49m\u001b[43m=\u001b[49m\u001b[43mdtype_backend\u001b[49m\u001b[43m,\u001b[49m\n\u001b[32m    537\u001b[39m \u001b[43m    \u001b[49m\u001b[43m)\u001b[49m\n",
      "\u001b[36mFile \u001b[39m\u001b[32mc:\\work\\SynergAI\\webhook\\synergai\\.venv\\Lib\\site-packages\\pandas\\io\\sql.py:2729\u001b[39m, in \u001b[36mSQLiteDatabase.read_query\u001b[39m\u001b[34m(self, sql, index_col, coerce_float, parse_dates, params, chunksize, dtype, dtype_backend)\u001b[39m\n\u001b[32m   2717\u001b[39m \u001b[38;5;28;01mdef\u001b[39;00m\u001b[38;5;250m \u001b[39m\u001b[34mread_query\u001b[39m(\n\u001b[32m   2718\u001b[39m     \u001b[38;5;28mself\u001b[39m,\n\u001b[32m   2719\u001b[39m     sql,\n\u001b[32m   (...)\u001b[39m\u001b[32m   2726\u001b[39m     dtype_backend: DtypeBackend | Literal[\u001b[33m\"\u001b[39m\u001b[33mnumpy\u001b[39m\u001b[33m\"\u001b[39m] = \u001b[33m\"\u001b[39m\u001b[33mnumpy\u001b[39m\u001b[33m\"\u001b[39m,\n\u001b[32m   2727\u001b[39m ) -> DataFrame | Iterator[DataFrame]:\n\u001b[32m   2728\u001b[39m     cursor = \u001b[38;5;28mself\u001b[39m.execute(sql, params)\n\u001b[32m-> \u001b[39m\u001b[32m2729\u001b[39m     columns = \u001b[43m[\u001b[49m\u001b[43mcol_desc\u001b[49m\u001b[43m[\u001b[49m\u001b[32;43m0\u001b[39;49m\u001b[43m]\u001b[49m\u001b[43m \u001b[49m\u001b[38;5;28;43;01mfor\u001b[39;49;00m\u001b[43m \u001b[49m\u001b[43mcol_desc\u001b[49m\u001b[43m \u001b[49m\u001b[38;5;129;43;01min\u001b[39;49;00m\u001b[43m \u001b[49m\u001b[43mcursor\u001b[49m\u001b[43m.\u001b[49m\u001b[43mdescription\u001b[49m\u001b[43m]\u001b[49m\n\u001b[32m   2731\u001b[39m     \u001b[38;5;28;01mif\u001b[39;00m chunksize \u001b[38;5;129;01mis\u001b[39;00m \u001b[38;5;129;01mnot\u001b[39;00m \u001b[38;5;28;01mNone\u001b[39;00m:\n\u001b[32m   2732\u001b[39m         \u001b[38;5;28;01mreturn\u001b[39;00m \u001b[38;5;28mself\u001b[39m._query_iterator(\n\u001b[32m   2733\u001b[39m             cursor,\n\u001b[32m   2734\u001b[39m             chunksize,\n\u001b[32m   (...)\u001b[39m\u001b[32m   2740\u001b[39m             dtype_backend=dtype_backend,\n\u001b[32m   2741\u001b[39m         )\n",
      "\u001b[31mTypeError\u001b[39m: 'NoneType' object is not iterable"
     ]
    }
   ],
   "source": [
    "# Your query here\n",
    "query = '''\n",
    "-- Write your query below\n",
    "\n",
    "'''\n",
    "pd.read_sql_query(query, conn)"
   ]
  },
  {
   "cell_type": "code",
   "execution_count": 20,
   "metadata": {},
   "outputs": [
    {
     "data": {
      "application/vnd.microsoft.datawrangler.viewer.v0+json": {
       "columns": [
        {
         "name": "index",
         "rawType": "int64",
         "type": "integer"
        },
        {
         "name": "country",
         "rawType": "object",
         "type": "string"
        },
        {
         "name": "order_count",
         "rawType": "int64",
         "type": "integer"
        },
        {
         "name": "avg_order_value",
         "rawType": "float64",
         "type": "float"
        }
       ],
       "ref": "de9c772b-ae82-4c40-9ffe-991f15c7bbc8",
       "rows": [
        [
         "0",
         "USA",
         "6",
         "266.65000000000003"
        ]
       ],
       "shape": {
        "columns": 3,
        "rows": 1
       }
      },
      "text/html": [
       "<div>\n",
       "<style scoped>\n",
       "    .dataframe tbody tr th:only-of-type {\n",
       "        vertical-align: middle;\n",
       "    }\n",
       "\n",
       "    .dataframe tbody tr th {\n",
       "        vertical-align: top;\n",
       "    }\n",
       "\n",
       "    .dataframe thead th {\n",
       "        text-align: right;\n",
       "    }\n",
       "</style>\n",
       "<table border=\"1\" class=\"dataframe\">\n",
       "  <thead>\n",
       "    <tr style=\"text-align: right;\">\n",
       "      <th></th>\n",
       "      <th>country</th>\n",
       "      <th>order_count</th>\n",
       "      <th>avg_order_value</th>\n",
       "    </tr>\n",
       "  </thead>\n",
       "  <tbody>\n",
       "    <tr>\n",
       "      <th>0</th>\n",
       "      <td>USA</td>\n",
       "      <td>6</td>\n",
       "      <td>266.65</td>\n",
       "    </tr>\n",
       "  </tbody>\n",
       "</table>\n",
       "</div>"
      ],
      "text/plain": [
       "  country  order_count  avg_order_value\n",
       "0     USA            6           266.65"
      ]
     },
     "execution_count": 20,
     "metadata": {},
     "output_type": "execute_result"
    }
   ],
   "source": [
    "# Solution: Countries with >= 2 orders and avg order value > $100\n",
    "query = '''\n",
    "SELECT c.country, COUNT(o.order_id) AS order_count, AVG(oi.quantity * oi.unit_price) AS avg_order_value\n",
    "FROM customers c\n",
    "INNER JOIN orders o ON c.customer_id = o.customer_id\n",
    "INNER JOIN order_items oi ON o.order_id = oi.order_id\n",
    "WHERE o.status = 'completed'\n",
    "GROUP BY c.country\n",
    "HAVING order_count >= 2 AND avg_order_value > 100;\n",
    "'''\n",
    "pd.read_sql_query(query, conn)"
   ]
  },
  {
   "cell_type": "markdown",
   "metadata": {},
   "source": [
    "## Basic Subqueries\n",
    "**Explanation**: Subqueries are queries within queries, used in `SELECT` or `WHERE` to compute values.\n",
    "\n",
    "**Example**: Find customers with total spend above the overall average."
   ]
  },
  {
   "cell_type": "code",
   "execution_count": 21,
   "metadata": {},
   "outputs": [
    {
     "data": {
      "application/vnd.microsoft.datawrangler.viewer.v0+json": {
       "columns": [
        {
         "name": "index",
         "rawType": "int64",
         "type": "integer"
        },
        {
         "name": "first_name",
         "rawType": "object",
         "type": "string"
        },
        {
         "name": "last_name",
         "rawType": "object",
         "type": "string"
        },
        {
         "name": "total_spend",
         "rawType": "float64",
         "type": "float"
        }
       ],
       "ref": "ed2e96dd-ff2c-40a3-a49f-5d27819fed5c",
       "rows": [
        [
         "0",
         "John",
         "Doe",
         "1329.96"
        ]
       ],
       "shape": {
        "columns": 3,
        "rows": 1
       }
      },
      "text/html": [
       "<div>\n",
       "<style scoped>\n",
       "    .dataframe tbody tr th:only-of-type {\n",
       "        vertical-align: middle;\n",
       "    }\n",
       "\n",
       "    .dataframe tbody tr th {\n",
       "        vertical-align: top;\n",
       "    }\n",
       "\n",
       "    .dataframe thead th {\n",
       "        text-align: right;\n",
       "    }\n",
       "</style>\n",
       "<table border=\"1\" class=\"dataframe\">\n",
       "  <thead>\n",
       "    <tr style=\"text-align: right;\">\n",
       "      <th></th>\n",
       "      <th>first_name</th>\n",
       "      <th>last_name</th>\n",
       "      <th>total_spend</th>\n",
       "    </tr>\n",
       "  </thead>\n",
       "  <tbody>\n",
       "    <tr>\n",
       "      <th>0</th>\n",
       "      <td>John</td>\n",
       "      <td>Doe</td>\n",
       "      <td>1329.96</td>\n",
       "    </tr>\n",
       "  </tbody>\n",
       "</table>\n",
       "</div>"
      ],
      "text/plain": [
       "  first_name last_name  total_spend\n",
       "0       John       Doe      1329.96"
      ]
     },
     "execution_count": 21,
     "metadata": {},
     "output_type": "execute_result"
    }
   ],
   "source": [
    "# Customers with above-average spend\n",
    "query = '''\n",
    "SELECT c.first_name, c.last_name, SUM(oi.quantity * oi.unit_price) AS total_spend\n",
    "FROM customers c\n",
    "INNER JOIN orders o ON c.customer_id = o.customer_id\n",
    "INNER JOIN order_items oi ON o.order_id = oi.order_id\n",
    "WHERE o.status = 'completed'\n",
    "GROUP BY c.customer_id, c.first_name, c.last_name\n",
    "HAVING total_spend > (\n",
    "    SELECT AVG(total) FROM (\n",
    "        SELECT SUM(oi.quantity * oi.unit_price) AS total\n",
    "        FROM orders o\n",
    "        INNER JOIN order_items oi ON o.order_id = oi.order_id\n",
    "        WHERE o.status = 'completed'\n",
    "        GROUP BY o.customer_id\n",
    "    ) sub\n",
    ");\n",
    "'''\n",
    "pd.read_sql_query(query, conn)"
   ]
  },
  {
   "cell_type": "markdown",
   "metadata": {},
   "source": [
    "**Exercise**: Find products priced above their category's average price."
   ]
  },
  {
   "cell_type": "code",
   "execution_count": 22,
   "metadata": {},
   "outputs": [
    {
     "ename": "TypeError",
     "evalue": "'NoneType' object is not iterable",
     "output_type": "error",
     "traceback": [
      "\u001b[31m---------------------------------------------------------------------------\u001b[39m",
      "\u001b[31mTypeError\u001b[39m                                 Traceback (most recent call last)",
      "\u001b[36mCell\u001b[39m\u001b[36m \u001b[39m\u001b[32mIn[22]\u001b[39m\u001b[32m, line 6\u001b[39m\n\u001b[32m      1\u001b[39m \u001b[38;5;66;03m# Your query here\u001b[39;00m\n\u001b[32m      2\u001b[39m query = \u001b[33m'''\u001b[39m\n\u001b[32m      3\u001b[39m \u001b[33m-- Write your query below\u001b[39m\n\u001b[32m      4\u001b[39m \n\u001b[32m      5\u001b[39m \u001b[33m'''\u001b[39m\n\u001b[32m----> \u001b[39m\u001b[32m6\u001b[39m \u001b[43mpd\u001b[49m\u001b[43m.\u001b[49m\u001b[43mread_sql_query\u001b[49m\u001b[43m(\u001b[49m\u001b[43mquery\u001b[49m\u001b[43m,\u001b[49m\u001b[43m \u001b[49m\u001b[43mconn\u001b[49m\u001b[43m)\u001b[49m\n",
      "\u001b[36mFile \u001b[39m\u001b[32mc:\\work\\SynergAI\\webhook\\synergai\\.venv\\Lib\\site-packages\\pandas\\io\\sql.py:528\u001b[39m, in \u001b[36mread_sql_query\u001b[39m\u001b[34m(sql, con, index_col, coerce_float, params, parse_dates, chunksize, dtype, dtype_backend)\u001b[39m\n\u001b[32m    525\u001b[39m \u001b[38;5;28;01massert\u001b[39;00m dtype_backend \u001b[38;5;129;01mis\u001b[39;00m \u001b[38;5;129;01mnot\u001b[39;00m lib.no_default\n\u001b[32m    527\u001b[39m \u001b[38;5;28;01mwith\u001b[39;00m pandasSQL_builder(con) \u001b[38;5;28;01mas\u001b[39;00m pandas_sql:\n\u001b[32m--> \u001b[39m\u001b[32m528\u001b[39m     \u001b[38;5;28;01mreturn\u001b[39;00m \u001b[43mpandas_sql\u001b[49m\u001b[43m.\u001b[49m\u001b[43mread_query\u001b[49m\u001b[43m(\u001b[49m\n\u001b[32m    529\u001b[39m \u001b[43m        \u001b[49m\u001b[43msql\u001b[49m\u001b[43m,\u001b[49m\n\u001b[32m    530\u001b[39m \u001b[43m        \u001b[49m\u001b[43mindex_col\u001b[49m\u001b[43m=\u001b[49m\u001b[43mindex_col\u001b[49m\u001b[43m,\u001b[49m\n\u001b[32m    531\u001b[39m \u001b[43m        \u001b[49m\u001b[43mparams\u001b[49m\u001b[43m=\u001b[49m\u001b[43mparams\u001b[49m\u001b[43m,\u001b[49m\n\u001b[32m    532\u001b[39m \u001b[43m        \u001b[49m\u001b[43mcoerce_float\u001b[49m\u001b[43m=\u001b[49m\u001b[43mcoerce_float\u001b[49m\u001b[43m,\u001b[49m\n\u001b[32m    533\u001b[39m \u001b[43m        \u001b[49m\u001b[43mparse_dates\u001b[49m\u001b[43m=\u001b[49m\u001b[43mparse_dates\u001b[49m\u001b[43m,\u001b[49m\n\u001b[32m    534\u001b[39m \u001b[43m        \u001b[49m\u001b[43mchunksize\u001b[49m\u001b[43m=\u001b[49m\u001b[43mchunksize\u001b[49m\u001b[43m,\u001b[49m\n\u001b[32m    535\u001b[39m \u001b[43m        \u001b[49m\u001b[43mdtype\u001b[49m\u001b[43m=\u001b[49m\u001b[43mdtype\u001b[49m\u001b[43m,\u001b[49m\n\u001b[32m    536\u001b[39m \u001b[43m        \u001b[49m\u001b[43mdtype_backend\u001b[49m\u001b[43m=\u001b[49m\u001b[43mdtype_backend\u001b[49m\u001b[43m,\u001b[49m\n\u001b[32m    537\u001b[39m \u001b[43m    \u001b[49m\u001b[43m)\u001b[49m\n",
      "\u001b[36mFile \u001b[39m\u001b[32mc:\\work\\SynergAI\\webhook\\synergai\\.venv\\Lib\\site-packages\\pandas\\io\\sql.py:2729\u001b[39m, in \u001b[36mSQLiteDatabase.read_query\u001b[39m\u001b[34m(self, sql, index_col, coerce_float, parse_dates, params, chunksize, dtype, dtype_backend)\u001b[39m\n\u001b[32m   2717\u001b[39m \u001b[38;5;28;01mdef\u001b[39;00m\u001b[38;5;250m \u001b[39m\u001b[34mread_query\u001b[39m(\n\u001b[32m   2718\u001b[39m     \u001b[38;5;28mself\u001b[39m,\n\u001b[32m   2719\u001b[39m     sql,\n\u001b[32m   (...)\u001b[39m\u001b[32m   2726\u001b[39m     dtype_backend: DtypeBackend | Literal[\u001b[33m\"\u001b[39m\u001b[33mnumpy\u001b[39m\u001b[33m\"\u001b[39m] = \u001b[33m\"\u001b[39m\u001b[33mnumpy\u001b[39m\u001b[33m\"\u001b[39m,\n\u001b[32m   2727\u001b[39m ) -> DataFrame | Iterator[DataFrame]:\n\u001b[32m   2728\u001b[39m     cursor = \u001b[38;5;28mself\u001b[39m.execute(sql, params)\n\u001b[32m-> \u001b[39m\u001b[32m2729\u001b[39m     columns = \u001b[43m[\u001b[49m\u001b[43mcol_desc\u001b[49m\u001b[43m[\u001b[49m\u001b[32;43m0\u001b[39;49m\u001b[43m]\u001b[49m\u001b[43m \u001b[49m\u001b[38;5;28;43;01mfor\u001b[39;49;00m\u001b[43m \u001b[49m\u001b[43mcol_desc\u001b[49m\u001b[43m \u001b[49m\u001b[38;5;129;43;01min\u001b[39;49;00m\u001b[43m \u001b[49m\u001b[43mcursor\u001b[49m\u001b[43m.\u001b[49m\u001b[43mdescription\u001b[49m\u001b[43m]\u001b[49m\n\u001b[32m   2731\u001b[39m     \u001b[38;5;28;01mif\u001b[39;00m chunksize \u001b[38;5;129;01mis\u001b[39;00m \u001b[38;5;129;01mnot\u001b[39;00m \u001b[38;5;28;01mNone\u001b[39;00m:\n\u001b[32m   2732\u001b[39m         \u001b[38;5;28;01mreturn\u001b[39;00m \u001b[38;5;28mself\u001b[39m._query_iterator(\n\u001b[32m   2733\u001b[39m             cursor,\n\u001b[32m   2734\u001b[39m             chunksize,\n\u001b[32m   (...)\u001b[39m\u001b[32m   2740\u001b[39m             dtype_backend=dtype_backend,\n\u001b[32m   2741\u001b[39m         )\n",
      "\u001b[31mTypeError\u001b[39m: 'NoneType' object is not iterable"
     ]
    }
   ],
   "source": [
    "# Your query here\n",
    "query = '''\n",
    "-- Write your query below\n",
    "\n",
    "'''\n",
    "pd.read_sql_query(query, conn)"
   ]
  },
  {
   "cell_type": "code",
   "execution_count": 23,
   "metadata": {},
   "outputs": [
    {
     "data": {
      "application/vnd.microsoft.datawrangler.viewer.v0+json": {
       "columns": [
        {
         "name": "index",
         "rawType": "int64",
         "type": "integer"
        },
        {
         "name": "product_name",
         "rawType": "object",
         "type": "string"
        },
        {
         "name": "category",
         "rawType": "object",
         "type": "string"
        },
        {
         "name": "price",
         "rawType": "float64",
         "type": "float"
        }
       ],
       "ref": "535efb11-324e-4bfd-8f55-428c0c67b6c9",
       "rows": [
        [
         "0",
         "Laptop",
         "Electronics",
         "999.99"
        ],
        [
         "1",
         "Smartphone",
         "Electronics",
         "699.99"
        ],
        [
         "2",
         "Sneakers",
         "Clothing",
         "79.99"
        ],
        [
         "3",
         "Watch",
         "Accessories",
         "149.99"
        ],
        [
         "4",
         "Sunglasses",
         "Accessories",
         "99.99"
        ]
       ],
       "shape": {
        "columns": 3,
        "rows": 5
       }
      },
      "text/html": [
       "<div>\n",
       "<style scoped>\n",
       "    .dataframe tbody tr th:only-of-type {\n",
       "        vertical-align: middle;\n",
       "    }\n",
       "\n",
       "    .dataframe tbody tr th {\n",
       "        vertical-align: top;\n",
       "    }\n",
       "\n",
       "    .dataframe thead th {\n",
       "        text-align: right;\n",
       "    }\n",
       "</style>\n",
       "<table border=\"1\" class=\"dataframe\">\n",
       "  <thead>\n",
       "    <tr style=\"text-align: right;\">\n",
       "      <th></th>\n",
       "      <th>product_name</th>\n",
       "      <th>category</th>\n",
       "      <th>price</th>\n",
       "    </tr>\n",
       "  </thead>\n",
       "  <tbody>\n",
       "    <tr>\n",
       "      <th>0</th>\n",
       "      <td>Laptop</td>\n",
       "      <td>Electronics</td>\n",
       "      <td>999.99</td>\n",
       "    </tr>\n",
       "    <tr>\n",
       "      <th>1</th>\n",
       "      <td>Smartphone</td>\n",
       "      <td>Electronics</td>\n",
       "      <td>699.99</td>\n",
       "    </tr>\n",
       "    <tr>\n",
       "      <th>2</th>\n",
       "      <td>Sneakers</td>\n",
       "      <td>Clothing</td>\n",
       "      <td>79.99</td>\n",
       "    </tr>\n",
       "    <tr>\n",
       "      <th>3</th>\n",
       "      <td>Watch</td>\n",
       "      <td>Accessories</td>\n",
       "      <td>149.99</td>\n",
       "    </tr>\n",
       "    <tr>\n",
       "      <th>4</th>\n",
       "      <td>Sunglasses</td>\n",
       "      <td>Accessories</td>\n",
       "      <td>99.99</td>\n",
       "    </tr>\n",
       "  </tbody>\n",
       "</table>\n",
       "</div>"
      ],
      "text/plain": [
       "  product_name     category   price\n",
       "0       Laptop  Electronics  999.99\n",
       "1   Smartphone  Electronics  699.99\n",
       "2     Sneakers     Clothing   79.99\n",
       "3        Watch  Accessories  149.99\n",
       "4   Sunglasses  Accessories   99.99"
      ]
     },
     "execution_count": 23,
     "metadata": {},
     "output_type": "execute_result"
    }
   ],
   "source": [
    "# Solution: Products above category average price\n",
    "query = '''\n",
    "SELECT p.product_name, p.category, p.price\n",
    "FROM products p\n",
    "WHERE p.price > (\n",
    "    SELECT AVG(price)\n",
    "    FROM products p2\n",
    "    WHERE p2.category = p.category\n",
    ");\n",
    "'''\n",
    "pd.read_sql_query(query, conn)"
   ]
  },
  {
   "cell_type": "markdown",
   "metadata": {},
   "source": [
    "## Practical Analysis Scenarios\n",
    "**Explanation**: Combine SQL techniques to answer business questions, like customer lifetime value (CLV), order frequency, and trends.\n",
    "\n",
    "**Example**: Calculate customer lifetime value (proxy: total spend) and order frequency."
   ]
  },
  {
   "cell_type": "code",
   "execution_count": 24,
   "metadata": {},
   "outputs": [
    {
     "data": {
      "application/vnd.microsoft.datawrangler.viewer.v0+json": {
       "columns": [
        {
         "name": "index",
         "rawType": "int64",
         "type": "integer"
        },
        {
         "name": "customer_id",
         "rawType": "int64",
         "type": "integer"
        },
        {
         "name": "first_name",
         "rawType": "object",
         "type": "string"
        },
        {
         "name": "last_name",
         "rawType": "object",
         "type": "string"
        },
        {
         "name": "order_count",
         "rawType": "int64",
         "type": "integer"
        },
        {
         "name": "clv",
         "rawType": "float64",
         "type": "float"
        }
       ],
       "ref": "f2970e24-f92b-43b3-bca3-5c41d3b44fcc",
       "rows": [
        [
         "0",
         "1",
         "John",
         "Doe",
         "2",
         "1329.96"
        ],
        [
         "1",
         "2",
         "Jane",
         "Smith",
         "2",
         "289.9"
        ],
        [
         "2",
         "4",
         "Bob",
         "Wilson",
         "1",
         "179.97"
        ],
        [
         "3",
         "6",
         "Liam",
         "Moore",
         "1",
         "199.98"
        ],
        [
         "4",
         "8",
         "Noah",
         "Anderson",
         "1",
         "89.97"
        ],
        [
         "5",
         "9",
         "Sophia",
         "Martinez",
         "0",
         null
        ],
        [
         "6",
         "10",
         "William",
         "Thomas",
         "0",
         null
        ]
       ],
       "shape": {
        "columns": 5,
        "rows": 7
       }
      },
      "text/html": [
       "<div>\n",
       "<style scoped>\n",
       "    .dataframe tbody tr th:only-of-type {\n",
       "        vertical-align: middle;\n",
       "    }\n",
       "\n",
       "    .dataframe tbody tr th {\n",
       "        vertical-align: top;\n",
       "    }\n",
       "\n",
       "    .dataframe thead th {\n",
       "        text-align: right;\n",
       "    }\n",
       "</style>\n",
       "<table border=\"1\" class=\"dataframe\">\n",
       "  <thead>\n",
       "    <tr style=\"text-align: right;\">\n",
       "      <th></th>\n",
       "      <th>customer_id</th>\n",
       "      <th>first_name</th>\n",
       "      <th>last_name</th>\n",
       "      <th>order_count</th>\n",
       "      <th>clv</th>\n",
       "    </tr>\n",
       "  </thead>\n",
       "  <tbody>\n",
       "    <tr>\n",
       "      <th>0</th>\n",
       "      <td>1</td>\n",
       "      <td>John</td>\n",
       "      <td>Doe</td>\n",
       "      <td>2</td>\n",
       "      <td>1329.96</td>\n",
       "    </tr>\n",
       "    <tr>\n",
       "      <th>1</th>\n",
       "      <td>2</td>\n",
       "      <td>Jane</td>\n",
       "      <td>Smith</td>\n",
       "      <td>2</td>\n",
       "      <td>289.90</td>\n",
       "    </tr>\n",
       "    <tr>\n",
       "      <th>2</th>\n",
       "      <td>4</td>\n",
       "      <td>Bob</td>\n",
       "      <td>Wilson</td>\n",
       "      <td>1</td>\n",
       "      <td>179.97</td>\n",
       "    </tr>\n",
       "    <tr>\n",
       "      <th>3</th>\n",
       "      <td>6</td>\n",
       "      <td>Liam</td>\n",
       "      <td>Moore</td>\n",
       "      <td>1</td>\n",
       "      <td>199.98</td>\n",
       "    </tr>\n",
       "    <tr>\n",
       "      <th>4</th>\n",
       "      <td>8</td>\n",
       "      <td>Noah</td>\n",
       "      <td>Anderson</td>\n",
       "      <td>1</td>\n",
       "      <td>89.97</td>\n",
       "    </tr>\n",
       "    <tr>\n",
       "      <th>5</th>\n",
       "      <td>9</td>\n",
       "      <td>Sophia</td>\n",
       "      <td>Martinez</td>\n",
       "      <td>0</td>\n",
       "      <td>NaN</td>\n",
       "    </tr>\n",
       "    <tr>\n",
       "      <th>6</th>\n",
       "      <td>10</td>\n",
       "      <td>William</td>\n",
       "      <td>Thomas</td>\n",
       "      <td>0</td>\n",
       "      <td>NaN</td>\n",
       "    </tr>\n",
       "  </tbody>\n",
       "</table>\n",
       "</div>"
      ],
      "text/plain": [
       "   customer_id first_name last_name  order_count      clv\n",
       "0            1       John       Doe            2  1329.96\n",
       "1            2       Jane     Smith            2   289.90\n",
       "2            4        Bob    Wilson            1   179.97\n",
       "3            6       Liam     Moore            1   199.98\n",
       "4            8       Noah  Anderson            1    89.97\n",
       "5            9     Sophia  Martinez            0      NaN\n",
       "6           10    William    Thomas            0      NaN"
      ]
     },
     "execution_count": 24,
     "metadata": {},
     "output_type": "execute_result"
    }
   ],
   "source": [
    "# Customer lifetime value and order frequency\n",
    "query = '''\n",
    "SELECT \n",
    "    c.customer_id,\n",
    "    c.first_name,\n",
    "    c.last_name,\n",
    "    COUNT(DISTINCT o.order_id) AS order_count,\n",
    "    SUM(oi.quantity * oi.unit_price) AS clv\n",
    "FROM customers c\n",
    "LEFT JOIN orders o ON c.customer_id = o.customer_id\n",
    "LEFT JOIN order_items oi ON o.order_id = oi.order_id\n",
    "WHERE o.status = 'completed' OR o.order_id IS NULL\n",
    "GROUP BY c.customer_id, c.first_name, c.last_name;\n",
    "'''\n",
    "pd.read_sql_query(query, conn)"
   ]
  },
  {
   "cell_type": "markdown",
   "metadata": {},
   "source": [
    "**Exercise**: Calculate monthly signup cohorts with their completed order counts."
   ]
  },
  {
   "cell_type": "code",
   "execution_count": 25,
   "metadata": {},
   "outputs": [
    {
     "ename": "TypeError",
     "evalue": "'NoneType' object is not iterable",
     "output_type": "error",
     "traceback": [
      "\u001b[31m---------------------------------------------------------------------------\u001b[39m",
      "\u001b[31mTypeError\u001b[39m                                 Traceback (most recent call last)",
      "\u001b[36mCell\u001b[39m\u001b[36m \u001b[39m\u001b[32mIn[25]\u001b[39m\u001b[32m, line 6\u001b[39m\n\u001b[32m      1\u001b[39m \u001b[38;5;66;03m# Your query here\u001b[39;00m\n\u001b[32m      2\u001b[39m query = \u001b[33m'''\u001b[39m\n\u001b[32m      3\u001b[39m \u001b[33m-- Write your query below\u001b[39m\n\u001b[32m      4\u001b[39m \n\u001b[32m      5\u001b[39m \u001b[33m'''\u001b[39m\n\u001b[32m----> \u001b[39m\u001b[32m6\u001b[39m \u001b[43mpd\u001b[49m\u001b[43m.\u001b[49m\u001b[43mread_sql_query\u001b[49m\u001b[43m(\u001b[49m\u001b[43mquery\u001b[49m\u001b[43m,\u001b[49m\u001b[43m \u001b[49m\u001b[43mconn\u001b[49m\u001b[43m)\u001b[49m\n",
      "\u001b[36mFile \u001b[39m\u001b[32mc:\\work\\SynergAI\\webhook\\synergai\\.venv\\Lib\\site-packages\\pandas\\io\\sql.py:528\u001b[39m, in \u001b[36mread_sql_query\u001b[39m\u001b[34m(sql, con, index_col, coerce_float, params, parse_dates, chunksize, dtype, dtype_backend)\u001b[39m\n\u001b[32m    525\u001b[39m \u001b[38;5;28;01massert\u001b[39;00m dtype_backend \u001b[38;5;129;01mis\u001b[39;00m \u001b[38;5;129;01mnot\u001b[39;00m lib.no_default\n\u001b[32m    527\u001b[39m \u001b[38;5;28;01mwith\u001b[39;00m pandasSQL_builder(con) \u001b[38;5;28;01mas\u001b[39;00m pandas_sql:\n\u001b[32m--> \u001b[39m\u001b[32m528\u001b[39m     \u001b[38;5;28;01mreturn\u001b[39;00m \u001b[43mpandas_sql\u001b[49m\u001b[43m.\u001b[49m\u001b[43mread_query\u001b[49m\u001b[43m(\u001b[49m\n\u001b[32m    529\u001b[39m \u001b[43m        \u001b[49m\u001b[43msql\u001b[49m\u001b[43m,\u001b[49m\n\u001b[32m    530\u001b[39m \u001b[43m        \u001b[49m\u001b[43mindex_col\u001b[49m\u001b[43m=\u001b[49m\u001b[43mindex_col\u001b[49m\u001b[43m,\u001b[49m\n\u001b[32m    531\u001b[39m \u001b[43m        \u001b[49m\u001b[43mparams\u001b[49m\u001b[43m=\u001b[49m\u001b[43mparams\u001b[49m\u001b[43m,\u001b[49m\n\u001b[32m    532\u001b[39m \u001b[43m        \u001b[49m\u001b[43mcoerce_float\u001b[49m\u001b[43m=\u001b[49m\u001b[43mcoerce_float\u001b[49m\u001b[43m,\u001b[49m\n\u001b[32m    533\u001b[39m \u001b[43m        \u001b[49m\u001b[43mparse_dates\u001b[49m\u001b[43m=\u001b[49m\u001b[43mparse_dates\u001b[49m\u001b[43m,\u001b[49m\n\u001b[32m    534\u001b[39m \u001b[43m        \u001b[49m\u001b[43mchunksize\u001b[49m\u001b[43m=\u001b[49m\u001b[43mchunksize\u001b[49m\u001b[43m,\u001b[49m\n\u001b[32m    535\u001b[39m \u001b[43m        \u001b[49m\u001b[43mdtype\u001b[49m\u001b[43m=\u001b[49m\u001b[43mdtype\u001b[49m\u001b[43m,\u001b[49m\n\u001b[32m    536\u001b[39m \u001b[43m        \u001b[49m\u001b[43mdtype_backend\u001b[49m\u001b[43m=\u001b[49m\u001b[43mdtype_backend\u001b[49m\u001b[43m,\u001b[49m\n\u001b[32m    537\u001b[39m \u001b[43m    \u001b[49m\u001b[43m)\u001b[49m\n",
      "\u001b[36mFile \u001b[39m\u001b[32mc:\\work\\SynergAI\\webhook\\synergai\\.venv\\Lib\\site-packages\\pandas\\io\\sql.py:2729\u001b[39m, in \u001b[36mSQLiteDatabase.read_query\u001b[39m\u001b[34m(self, sql, index_col, coerce_float, parse_dates, params, chunksize, dtype, dtype_backend)\u001b[39m\n\u001b[32m   2717\u001b[39m \u001b[38;5;28;01mdef\u001b[39;00m\u001b[38;5;250m \u001b[39m\u001b[34mread_query\u001b[39m(\n\u001b[32m   2718\u001b[39m     \u001b[38;5;28mself\u001b[39m,\n\u001b[32m   2719\u001b[39m     sql,\n\u001b[32m   (...)\u001b[39m\u001b[32m   2726\u001b[39m     dtype_backend: DtypeBackend | Literal[\u001b[33m\"\u001b[39m\u001b[33mnumpy\u001b[39m\u001b[33m\"\u001b[39m] = \u001b[33m\"\u001b[39m\u001b[33mnumpy\u001b[39m\u001b[33m\"\u001b[39m,\n\u001b[32m   2727\u001b[39m ) -> DataFrame | Iterator[DataFrame]:\n\u001b[32m   2728\u001b[39m     cursor = \u001b[38;5;28mself\u001b[39m.execute(sql, params)\n\u001b[32m-> \u001b[39m\u001b[32m2729\u001b[39m     columns = \u001b[43m[\u001b[49m\u001b[43mcol_desc\u001b[49m\u001b[43m[\u001b[49m\u001b[32;43m0\u001b[39;49m\u001b[43m]\u001b[49m\u001b[43m \u001b[49m\u001b[38;5;28;43;01mfor\u001b[39;49;00m\u001b[43m \u001b[49m\u001b[43mcol_desc\u001b[49m\u001b[43m \u001b[49m\u001b[38;5;129;43;01min\u001b[39;49;00m\u001b[43m \u001b[49m\u001b[43mcursor\u001b[49m\u001b[43m.\u001b[49m\u001b[43mdescription\u001b[49m\u001b[43m]\u001b[49m\n\u001b[32m   2731\u001b[39m     \u001b[38;5;28;01mif\u001b[39;00m chunksize \u001b[38;5;129;01mis\u001b[39;00m \u001b[38;5;129;01mnot\u001b[39;00m \u001b[38;5;28;01mNone\u001b[39;00m:\n\u001b[32m   2732\u001b[39m         \u001b[38;5;28;01mreturn\u001b[39;00m \u001b[38;5;28mself\u001b[39m._query_iterator(\n\u001b[32m   2733\u001b[39m             cursor,\n\u001b[32m   2734\u001b[39m             chunksize,\n\u001b[32m   (...)\u001b[39m\u001b[32m   2740\u001b[39m             dtype_backend=dtype_backend,\n\u001b[32m   2741\u001b[39m         )\n",
      "\u001b[31mTypeError\u001b[39m: 'NoneType' object is not iterable"
     ]
    }
   ],
   "source": [
    "# Your query here\n",
    "query = '''\n",
    "-- Write your query below\n",
    "\n",
    "'''\n",
    "pd.read_sql_query(query, conn)"
   ]
  },
  {
   "cell_type": "code",
   "execution_count": 26,
   "metadata": {},
   "outputs": [
    {
     "data": {
      "application/vnd.microsoft.datawrangler.viewer.v0+json": {
       "columns": [
        {
         "name": "index",
         "rawType": "int64",
         "type": "integer"
        },
        {
         "name": "signup_month",
         "rawType": "object",
         "type": "string"
        },
        {
         "name": "customer_count",
         "rawType": "int64",
         "type": "integer"
        },
        {
         "name": "order_count",
         "rawType": "int64",
         "type": "integer"
        }
       ],
       "ref": "ad327e3e-8be4-4524-8d98-0f0e661a2d45",
       "rows": [
        [
         "0",
         "2023-01",
         "1",
         "2"
        ],
        [
         "1",
         "2023-02",
         "1",
         "2"
        ],
        [
         "2",
         "2023-04",
         "1",
         "1"
        ],
        [
         "3",
         "2023-06",
         "1",
         "1"
        ],
        [
         "4",
         "2023-08",
         "1",
         "1"
        ],
        [
         "5",
         "2023-09",
         "1",
         "0"
        ],
        [
         "6",
         "2023-10",
         "1",
         "0"
        ]
       ],
       "shape": {
        "columns": 3,
        "rows": 7
       }
      },
      "text/html": [
       "<div>\n",
       "<style scoped>\n",
       "    .dataframe tbody tr th:only-of-type {\n",
       "        vertical-align: middle;\n",
       "    }\n",
       "\n",
       "    .dataframe tbody tr th {\n",
       "        vertical-align: top;\n",
       "    }\n",
       "\n",
       "    .dataframe thead th {\n",
       "        text-align: right;\n",
       "    }\n",
       "</style>\n",
       "<table border=\"1\" class=\"dataframe\">\n",
       "  <thead>\n",
       "    <tr style=\"text-align: right;\">\n",
       "      <th></th>\n",
       "      <th>signup_month</th>\n",
       "      <th>customer_count</th>\n",
       "      <th>order_count</th>\n",
       "    </tr>\n",
       "  </thead>\n",
       "  <tbody>\n",
       "    <tr>\n",
       "      <th>0</th>\n",
       "      <td>2023-01</td>\n",
       "      <td>1</td>\n",
       "      <td>2</td>\n",
       "    </tr>\n",
       "    <tr>\n",
       "      <th>1</th>\n",
       "      <td>2023-02</td>\n",
       "      <td>1</td>\n",
       "      <td>2</td>\n",
       "    </tr>\n",
       "    <tr>\n",
       "      <th>2</th>\n",
       "      <td>2023-04</td>\n",
       "      <td>1</td>\n",
       "      <td>1</td>\n",
       "    </tr>\n",
       "    <tr>\n",
       "      <th>3</th>\n",
       "      <td>2023-06</td>\n",
       "      <td>1</td>\n",
       "      <td>1</td>\n",
       "    </tr>\n",
       "    <tr>\n",
       "      <th>4</th>\n",
       "      <td>2023-08</td>\n",
       "      <td>1</td>\n",
       "      <td>1</td>\n",
       "    </tr>\n",
       "    <tr>\n",
       "      <th>5</th>\n",
       "      <td>2023-09</td>\n",
       "      <td>1</td>\n",
       "      <td>0</td>\n",
       "    </tr>\n",
       "    <tr>\n",
       "      <th>6</th>\n",
       "      <td>2023-10</td>\n",
       "      <td>1</td>\n",
       "      <td>0</td>\n",
       "    </tr>\n",
       "  </tbody>\n",
       "</table>\n",
       "</div>"
      ],
      "text/plain": [
       "  signup_month  customer_count  order_count\n",
       "0      2023-01               1            2\n",
       "1      2023-02               1            2\n",
       "2      2023-04               1            1\n",
       "3      2023-06               1            1\n",
       "4      2023-08               1            1\n",
       "5      2023-09               1            0\n",
       "6      2023-10               1            0"
      ]
     },
     "execution_count": 26,
     "metadata": {},
     "output_type": "execute_result"
    }
   ],
   "source": [
    "# Solution: Monthly signup cohorts with order counts\n",
    "query = '''\n",
    "SELECT \n",
    "    strftime('%Y-%m', c.signup_date) AS signup_month,\n",
    "    COUNT(DISTINCT c.customer_id) AS customer_count,\n",
    "    COUNT(DISTINCT o.order_id) AS order_count\n",
    "FROM customers c\n",
    "LEFT JOIN orders o ON c.customer_id = o.customer_id\n",
    "WHERE o.status = 'completed' OR o.order_id IS NULL\n",
    "GROUP BY signup_month;\n",
    "'''\n",
    "pd.read_sql_query(query, conn)"
   ]
  },
  {
   "cell_type": "markdown",
   "metadata": {},
   "source": [
    "## Common Pitfalls and Tips\n",
    "- **NULL Handling**: Use `IS NULL` or `IS NOT NULL` to check for NULLs. `WHERE column = NULL` doesn't work.\n",
    "- **Duplicates**: Use `DISTINCT` to avoid duplicate rows, or ensure joins don't multiply rows.\n",
    "- **INNER vs LEFT JOIN**: INNER JOIN excludes unmatched rows; LEFT JOIN keeps all rows from the left table.\n",
    "- **DISTINCT vs GROUP BY**: Use `DISTINCT` for unique values in a single column; `GROUP BY` for aggregations.\n",
    "\n",
    "**Example**: Check for NULLs in customer emails."
   ]
  },
  {
   "cell_type": "code",
   "execution_count": 27,
   "metadata": {},
   "outputs": [
    {
     "data": {
      "application/vnd.microsoft.datawrangler.viewer.v0+json": {
       "columns": [
        {
         "name": "index",
         "rawType": "int64",
         "type": "integer"
        },
        {
         "name": "first_name",
         "rawType": "object",
         "type": "string"
        },
        {
         "name": "last_name",
         "rawType": "object",
         "type": "string"
        },
        {
         "name": "email",
         "rawType": "object",
         "type": "string"
        }
       ],
       "ref": "34d7f21e-cbab-48bc-827b-2f1808f2ba3b",
       "rows": [],
       "shape": {
        "columns": 3,
        "rows": 0
       }
      },
      "text/html": [
       "<div>\n",
       "<style scoped>\n",
       "    .dataframe tbody tr th:only-of-type {\n",
       "        vertical-align: middle;\n",
       "    }\n",
       "\n",
       "    .dataframe tbody tr th {\n",
       "        vertical-align: top;\n",
       "    }\n",
       "\n",
       "    .dataframe thead th {\n",
       "        text-align: right;\n",
       "    }\n",
       "</style>\n",
       "<table border=\"1\" class=\"dataframe\">\n",
       "  <thead>\n",
       "    <tr style=\"text-align: right;\">\n",
       "      <th></th>\n",
       "      <th>first_name</th>\n",
       "      <th>last_name</th>\n",
       "      <th>email</th>\n",
       "    </tr>\n",
       "  </thead>\n",
       "  <tbody>\n",
       "  </tbody>\n",
       "</table>\n",
       "</div>"
      ],
      "text/plain": [
       "Empty DataFrame\n",
       "Columns: [first_name, last_name, email]\n",
       "Index: []"
      ]
     },
     "execution_count": 27,
     "metadata": {},
     "output_type": "execute_result"
    }
   ],
   "source": [
    "# Check for NULL emails\n",
    "query = '''\n",
    "SELECT first_name, last_name, email\n",
    "FROM customers\n",
    "WHERE email IS NULL;\n",
    "'''\n",
    "pd.read_sql_query(query, conn)"
   ]
  },
  {
   "cell_type": "markdown",
   "metadata": {},
   "source": [
    "## Wrap-up and Further Reading\n",
    "You've learned SQL basics: SELECT, WHERE, ORDER BY, LIMIT, DISTINCT, JOINs, GROUP BY, HAVING, and subqueries. Practice by exploring the dataset further or trying these resources:\n",
    "- SQLite documentation: https://www.sqlite.org/docs.html\n",
    "- SQL for Data Analysis (book): \"SQL for Data Scientists\" by Renee M. P. Teate\n",
    "- Online practice: Mode Analytics SQL Tutorial (https://mode.com/sql-tutorial/)\n",
    "\n",
    "**Optional Mini-Project**: Analyze the dataset to answer:\n",
    "1. Which customers have spent the most?\n",
    "2. What is the average order value by country?\n",
    "3. Which products are most popular (by quantity sold)?\n",
    "4. Visualize monthly revenue trends (requires pandas/plotly)."
   ]
  },
  {
   "cell_type": "code",
   "execution_count": 28,
   "metadata": {},
   "outputs": [
    {
     "ename": "ModuleNotFoundError",
     "evalue": "No module named 'plotly'",
     "output_type": "error",
     "traceback": [
      "\u001b[31m---------------------------------------------------------------------------\u001b[39m",
      "\u001b[31mModuleNotFoundError\u001b[39m                       Traceback (most recent call last)",
      "\u001b[36mCell\u001b[39m\u001b[36m \u001b[39m\u001b[32mIn[28]\u001b[39m\u001b[32m, line 2\u001b[39m\n\u001b[32m      1\u001b[39m \u001b[38;5;66;03m# Optional: Monthly revenue trend visualization\u001b[39;00m\n\u001b[32m----> \u001b[39m\u001b[32m2\u001b[39m \u001b[38;5;28;01mimport\u001b[39;00m\u001b[38;5;250m \u001b[39m\u001b[34;01mplotly\u001b[39;00m\u001b[34;01m.\u001b[39;00m\u001b[34;01mexpress\u001b[39;00m\u001b[38;5;250m \u001b[39m\u001b[38;5;28;01mas\u001b[39;00m\u001b[38;5;250m \u001b[39m\u001b[34;01mpx\u001b[39;00m\n\u001b[32m      4\u001b[39m query = \u001b[33m'''\u001b[39m\n\u001b[32m      5\u001b[39m \u001b[33mSELECT strftime(\u001b[39m\u001b[33m'\u001b[39m\u001b[33m%\u001b[39m\u001b[33mY-\u001b[39m\u001b[33m%\u001b[39m\u001b[33mm\u001b[39m\u001b[33m'\u001b[39m\u001b[33m, o.order_date) AS month, SUM(oi.quantity * oi.unit_price) AS revenue\u001b[39m\n\u001b[32m      6\u001b[39m \u001b[33mFROM orders o\u001b[39m\n\u001b[32m   (...)\u001b[39m\u001b[32m      9\u001b[39m \u001b[33mGROUP BY month;\u001b[39m\n\u001b[32m     10\u001b[39m \u001b[33m'''\u001b[39m\n\u001b[32m     11\u001b[39m df = pd.read_sql_query(query, conn)\n",
      "\u001b[31mModuleNotFoundError\u001b[39m: No module named 'plotly'"
     ]
    }
   ],
   "source": [
    "# Optional: Monthly revenue trend visualization\n",
    "import plotly.express as px\n",
    "\n",
    "query = '''\n",
    "SELECT strftime('%Y-%m', o.order_date) AS month, SUM(oi.quantity * oi.unit_price) AS revenue\n",
    "FROM orders o\n",
    "INNER JOIN order_items oi ON o.order_id = oi.order_id\n",
    "WHERE o.status = 'completed'\n",
    "GROUP BY month;\n",
    "'''\n",
    "df = pd.read_sql_query(query, conn)\n",
    "fig = px.line(df, x='month', y='revenue', title='Monthly Revenue Trend')\n",
    "fig.show()"
   ]
  },
  {
   "cell_type": "code",
   "execution_count": null,
   "metadata": {},
   "outputs": [],
   "source": []
  },
  {
   "cell_type": "code",
   "execution_count": null,
   "metadata": {},
   "outputs": [],
   "source": []
  }
 ],
 "metadata": {
  "kernelspec": {
   "display_name": ".venv (3.13.3)",
   "language": "python",
   "name": "python3"
  },
  "language_info": {
   "codemirror_mode": {
    "name": "ipython",
    "version": 3
   },
   "file_extension": ".py",
   "mimetype": "text/x-python",
   "name": "python",
   "nbconvert_exporter": "python",
   "pygments_lexer": "ipython3",
   "version": "3.13.3"
  }
 },
 "nbformat": 4,
 "nbformat_minor": 4
}
